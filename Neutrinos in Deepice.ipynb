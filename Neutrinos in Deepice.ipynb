{
 "cells": [
  {
   "cell_type": "code",
   "execution_count": 1,
   "id": "234dad55",
   "metadata": {
    "_cell_guid": "b1076dfc-b9ad-4769-8c92-a6c4dae69d19",
    "_uuid": "8f2839f25d086af736a60e9eeb907d3b93b6e0e5",
    "execution": {
     "iopub.execute_input": "2023-06-04T06:28:49.109378Z",
     "iopub.status.busy": "2023-06-04T06:28:49.108942Z",
     "iopub.status.idle": "2023-06-04T06:28:50.209229Z",
     "shell.execute_reply": "2023-06-04T06:28:50.207943Z"
    },
    "papermill": {
     "duration": 1.121727,
     "end_time": "2023-06-04T06:28:50.212358",
     "exception": false,
     "start_time": "2023-06-04T06:28:49.090631",
     "status": "completed"
    },
    "tags": []
   },
   "outputs": [],
   "source": [
    "import pandas as pd\n",
    "import numpy as np\n",
    "import pyarrow.parquet as pq\n",
    "import plotly.graph_objects as go\n",
    "import plotly.express as px\n",
    "import warnings\n",
    "from tqdm import tqdm\n",
    "import gc\n",
    "warnings.filterwarnings(\"ignore\")"
   ]
  },
  {
   "cell_type": "markdown",
   "id": "1845f349",
   "metadata": {
    "papermill": {
     "duration": 0.01532,
     "end_time": "2023-06-04T06:28:50.243263",
     "exception": false,
     "start_time": "2023-06-04T06:28:50.227943",
     "status": "completed"
    },
    "tags": []
   },
   "source": [
    "\n",
    "<div class=\"alert alert-block alert-success\" style=\"font-size:14px; font-family:verdana; line-height: 1.7em;\">\n",
    "    📌 &nbsp;<b><u>Intro:</u></b><br>\n",
    "    \n",
    "\n",
    " En esta libreta intentamos predecir la dirección de una partícula de neutrino utilizando PCA. El Análisis de Componentes Principales (PCA) proyecta los datos desde un espacio de mayor dimensión hacia un espacio de menor dimensión al maximizar la varianza de cada componente a través de combinaciones lineales del espacio original, eliminando las correlaciones lineales y definiendo una nueva base ortogonal conocida como componentes principales. Por lo tanto, utilizaremos el primer componente principal para reconstruir la trayectoria tridimensional del neutrino encontrando la mejor combinación lineal del espacio original de características (las coordenadas x, y, z de los sensores activados)."
   ]
  },
  {
   "cell_type": "code",
   "execution_count": 2,
   "id": "8fca511d",
   "metadata": {
    "execution": {
     "iopub.execute_input": "2023-06-04T06:28:50.276761Z",
     "iopub.status.busy": "2023-06-04T06:28:50.276258Z",
     "iopub.status.idle": "2023-06-04T06:28:52.064996Z",
     "shell.execute_reply": "2023-06-04T06:28:52.063889Z"
    },
    "papermill": {
     "duration": 1.808799,
     "end_time": "2023-06-04T06:28:52.067769",
     "exception": false,
     "start_time": "2023-06-04T06:28:50.258970",
     "status": "completed"
    },
    "tags": []
   },
   "outputs": [],
   "source": [
    "from sklearn.decomposition import PCA"
   ]
  },
  {
   "cell_type": "markdown",
   "id": "b3ddef50",
   "metadata": {
    "papermill": {
     "duration": 0.015827,
     "end_time": "2023-06-04T06:28:52.099172",
     "exception": false,
     "start_time": "2023-06-04T06:28:52.083345",
     "status": "completed"
    },
    "tags": []
   },
   "source": [
    "## <p style=\"font-family:JetBrains Mono; font-weight:bold; letter-spacing: 2px; color:#006600; font-size:140%; text-align:left;padding: 0px; border-bottom: 3px solid #003300\">Metricas de la competencia</p>\n",
    "    \n"
   ]
  },
  {
   "cell_type": "code",
   "execution_count": 3,
   "id": "f8b20ebc",
   "metadata": {
    "execution": {
     "iopub.execute_input": "2023-06-04T06:28:52.134654Z",
     "iopub.status.busy": "2023-06-04T06:28:52.133788Z",
     "iopub.status.idle": "2023-06-04T06:28:52.146723Z",
     "shell.execute_reply": "2023-06-04T06:28:52.144766Z"
    },
    "papermill": {
     "duration": 0.03533,
     "end_time": "2023-06-04T06:28:52.150411",
     "exception": false,
     "start_time": "2023-06-04T06:28:52.115081",
     "status": "completed"
    },
    "tags": []
   },
   "outputs": [],
   "source": [
    "def angular_dist_score(az_true, zen_true, az_pred, zen_pred):\n",
    "    '''\n",
    "    calculate the MAE of the angular distance between two directions.\n",
    "    The two vectors are first converted to cartesian unit vectors,\n",
    "    and then their scalar product is computed, which is equal to\n",
    "    the cosine of the angle between the two vectors. The inverse \n",
    "    cosine (arccos) thereof is then the angle between the two input vectors\n",
    "    \n",
    "    Parameters:\n",
    "    -----------\n",
    "    \n",
    "    az_true : float (or array thereof)\n",
    "        true azimuth value(s) in radian\n",
    "    zen_true : float (or array thereof)\n",
    "        true zenith value(s) in radian\n",
    "    az_pred : float (or array thereof)\n",
    "        predicted azimuth value(s) in radian\n",
    "    zen_pred : float (or array thereof)\n",
    "        predicted zenith value(s) in radian\n",
    "    \n",
    "    Returns:\n",
    "    --------\n",
    "    \n",
    "    dist : float\n",
    "        mean over the angular distance(s) in radian\n",
    "    '''\n",
    "    \n",
    "    if not (np.all(np.isfinite(az_true)) and\n",
    "            np.all(np.isfinite(zen_true)) and\n",
    "            np.all(np.isfinite(az_pred)) and\n",
    "            np.all(np.isfinite(zen_pred))):\n",
    "        raise ValueError(\"All arguments must be finite\")\n",
    "    \n",
    "    # pre-compute all sine and cosine values\n",
    "    sa1 = np.sin(az_true)\n",
    "    ca1 = np.cos(az_true)\n",
    "    sz1 = np.sin(zen_true)\n",
    "    cz1 = np.cos(zen_true)\n",
    "    \n",
    "    sa2 = np.sin(az_pred)\n",
    "    ca2 = np.cos(az_pred)\n",
    "    sz2 = np.sin(zen_pred)\n",
    "    cz2 = np.cos(zen_pred)\n",
    "    \n",
    "    # scalar product of the two cartesian vectors (x = sz*ca, y = sz*sa, z = cz)\n",
    "    scalar_prod = sz1*sz2*(ca1*ca2 + sa1*sa2) + (cz1*cz2)\n",
    "    \n",
    "    # scalar product of two unit vectors is always between -1 and 1, this is against nummerical instability\n",
    "    # that might otherwise occure from the finite precision of the sine and cosine functions\n",
    "    scalar_prod =  np.clip(scalar_prod, -1, 1)\n",
    "    \n",
    "    # convert back to an angle (in radian)\n",
    "    return np.average(np.abs(np.arccos(scalar_prod)))"
   ]
  },
  {
   "cell_type": "markdown",
   "id": "fb998b61",
   "metadata": {
    "papermill": {
     "duration": 0.015706,
     "end_time": "2023-06-04T06:28:52.181807",
     "exception": false,
     "start_time": "2023-06-04T06:28:52.166101",
     "status": "completed"
    },
    "tags": []
   },
   "source": [
    "# <p style=\"font-family:JetBrains Mono; font-weight:bold; letter-spacing: 2px; color:#006600; font-size:140%; text-align:left;padding: 0px; border-bottom: 3px solid #003300\">Load the Data</p>"
   ]
  },
  {
   "cell_type": "code",
   "execution_count": 4,
   "id": "f5e1f42d",
   "metadata": {
    "execution": {
     "iopub.execute_input": "2023-06-04T06:28:52.215093Z",
     "iopub.status.busy": "2023-06-04T06:28:52.214647Z",
     "iopub.status.idle": "2023-06-04T06:28:52.247019Z",
     "shell.execute_reply": "2023-06-04T06:28:52.246021Z"
    },
    "papermill": {
     "duration": 0.052233,
     "end_time": "2023-06-04T06:28:52.249670",
     "exception": false,
     "start_time": "2023-06-04T06:28:52.197437",
     "status": "completed"
    },
    "tags": []
   },
   "outputs": [],
   "source": [
    "sensor_geometry = pd.read_csv(\"/kaggle/input/icecube-neutrinos-in-deep-ice/sensor_geometry.csv\")"
   ]
  },
  {
   "cell_type": "code",
   "execution_count": 5,
   "id": "20a41041",
   "metadata": {
    "execution": {
     "iopub.execute_input": "2023-06-04T06:28:52.283085Z",
     "iopub.status.busy": "2023-06-04T06:28:52.282380Z",
     "iopub.status.idle": "2023-06-04T06:29:12.446597Z",
     "shell.execute_reply": "2023-06-04T06:29:12.445378Z"
    },
    "papermill": {
     "duration": 20.184443,
     "end_time": "2023-06-04T06:29:12.449566",
     "exception": false,
     "start_time": "2023-06-04T06:28:52.265123",
     "status": "completed"
    },
    "tags": []
   },
   "outputs": [
    {
     "name": "stdout",
     "output_type": "stream",
     "text": [
      "cantidad de eventos: 131953924\n",
      "Shape: (131953924, 6)\n"
     ]
    }
   ],
   "source": [
    "train_meta = pq.read_pandas(\"/kaggle/input/icecube-neutrinos-in-deep-ice/train_meta.parquet\").to_pandas()\n",
    "print(f\"cantidad de eventos: {len(train_meta)}\\nShape: {train_meta.shape}\")"
   ]
  },
  {
   "cell_type": "code",
   "execution_count": 6,
   "id": "51d6ac9b",
   "metadata": {
    "execution": {
     "iopub.execute_input": "2023-06-04T06:29:12.483914Z",
     "iopub.status.busy": "2023-06-04T06:29:12.483480Z",
     "iopub.status.idle": "2023-06-04T06:29:12.922918Z",
     "shell.execute_reply": "2023-06-04T06:29:12.921914Z"
    },
    "papermill": {
     "duration": 0.460325,
     "end_time": "2023-06-04T06:29:12.925927",
     "exception": false,
     "start_time": "2023-06-04T06:29:12.465602",
     "status": "completed"
    },
    "tags": []
   },
   "outputs": [],
   "source": [
    "train_meta_ = train_meta[train_meta[\"batch_id\"] == 125]"
   ]
  },
  {
   "cell_type": "code",
   "execution_count": 7,
   "id": "75601ec8",
   "metadata": {
    "execution": {
     "iopub.execute_input": "2023-06-04T06:29:12.963697Z",
     "iopub.status.busy": "2023-06-04T06:29:12.962179Z",
     "iopub.status.idle": "2023-06-04T06:29:13.134800Z",
     "shell.execute_reply": "2023-06-04T06:29:13.133595Z"
    },
    "papermill": {
     "duration": 0.194583,
     "end_time": "2023-06-04T06:29:13.137597",
     "exception": false,
     "start_time": "2023-06-04T06:29:12.943014",
     "status": "completed"
    },
    "tags": []
   },
   "outputs": [
    {
     "data": {
      "text/plain": [
       "43"
      ]
     },
     "execution_count": 7,
     "metadata": {},
     "output_type": "execute_result"
    }
   ],
   "source": [
    "del train_meta\n",
    "\n",
    "gc.collect()"
   ]
  },
  {
   "cell_type": "code",
   "execution_count": 8,
   "id": "d9f1eb00",
   "metadata": {
    "execution": {
     "iopub.execute_input": "2023-06-04T06:29:13.173225Z",
     "iopub.status.busy": "2023-06-04T06:29:13.172801Z",
     "iopub.status.idle": "2023-06-04T06:29:16.348721Z",
     "shell.execute_reply": "2023-06-04T06:29:16.347732Z"
    },
    "papermill": {
     "duration": 3.197247,
     "end_time": "2023-06-04T06:29:16.351339",
     "exception": false,
     "start_time": "2023-06-04T06:29:13.154092",
     "status": "completed"
    },
    "tags": []
   },
   "outputs": [
    {
     "name": "stdout",
     "output_type": "stream",
     "text": [
      "cantidad de eventos: 34242682\n",
      "Shape: (34242682, 5)\n"
     ]
    }
   ],
   "source": [
    "train_batch = pq.read_pandas(\"/kaggle/input/icecube-neutrinos-in-deep-ice/train/batch_125.parquet\").to_pandas().reset_index()\n",
    "print(f\"cantidad de eventos: {len(train_batch)}\\nShape: {train_batch.shape}\")\n"
   ]
  },
  {
   "cell_type": "markdown",
   "id": "ffcd1338",
   "metadata": {
    "papermill": {
     "duration": 0.016092,
     "end_time": "2023-06-04T06:29:16.383830",
     "exception": false,
     "start_time": "2023-06-04T06:29:16.367738",
     "status": "completed"
    },
    "tags": []
   },
   "source": [
    "# <p style=\"font-family:JetBrains Mono; font-weight:bold; letter-spacing: 2px; color:#006600; font-size:140%; text-align:left;padding: 0px; border-bottom: 3px solid #003300\">Noisy events</p>"
   ]
  },
  {
   "cell_type": "code",
   "execution_count": 9,
   "id": "89c7b46d",
   "metadata": {
    "execution": {
     "iopub.execute_input": "2023-06-04T06:29:16.420259Z",
     "iopub.status.busy": "2023-06-04T06:29:16.418939Z",
     "iopub.status.idle": "2023-06-04T06:29:17.581346Z",
     "shell.execute_reply": "2023-06-04T06:29:17.579653Z"
    },
    "papermill": {
     "duration": 1.184072,
     "end_time": "2023-06-04T06:29:17.584778",
     "exception": false,
     "start_time": "2023-06-04T06:29:16.400706",
     "status": "completed"
    },
    "tags": []
   },
   "outputs": [],
   "source": [
    "auxiliary_rate = train_batch.groupby(\"event_id\").agg({\"auxiliary\" : \"mean\"}).reset_index().rename(columns = {\"auxiliary\" : \"auxiliary_ratio\"})\n"
   ]
  },
  {
   "cell_type": "code",
   "execution_count": 10,
   "id": "f5b52a72",
   "metadata": {
    "execution": {
     "iopub.execute_input": "2023-06-04T06:29:17.621922Z",
     "iopub.status.busy": "2023-06-04T06:29:17.620701Z",
     "iopub.status.idle": "2023-06-04T06:29:17.790546Z",
     "shell.execute_reply": "2023-06-04T06:29:17.789063Z"
    },
    "papermill": {
     "duration": 0.192001,
     "end_time": "2023-06-04T06:29:17.793778",
     "exception": false,
     "start_time": "2023-06-04T06:29:17.601777",
     "status": "completed"
    },
    "tags": []
   },
   "outputs": [
    {
     "data": {
      "text/html": [
       "<div>\n",
       "<style scoped>\n",
       "    .dataframe tbody tr th:only-of-type {\n",
       "        vertical-align: middle;\n",
       "    }\n",
       "\n",
       "    .dataframe tbody tr th {\n",
       "        vertical-align: top;\n",
       "    }\n",
       "\n",
       "    .dataframe thead th {\n",
       "        text-align: right;\n",
       "    }\n",
       "</style>\n",
       "<table border=\"1\" class=\"dataframe\">\n",
       "  <thead>\n",
       "    <tr style=\"text-align: right;\">\n",
       "      <th></th>\n",
       "      <th>batch_id</th>\n",
       "      <th>event_id</th>\n",
       "      <th>first_pulse_index</th>\n",
       "      <th>last_pulse_index</th>\n",
       "      <th>azimuth</th>\n",
       "      <th>zenith</th>\n",
       "      <th>auxiliary_ratio</th>\n",
       "    </tr>\n",
       "  </thead>\n",
       "  <tbody>\n",
       "    <tr>\n",
       "      <th>0</th>\n",
       "      <td>125</td>\n",
       "      <td>403533054</td>\n",
       "      <td>0</td>\n",
       "      <td>64</td>\n",
       "      <td>5.036863</td>\n",
       "      <td>1.047974</td>\n",
       "      <td>0.692308</td>\n",
       "    </tr>\n",
       "    <tr>\n",
       "      <th>1</th>\n",
       "      <td>125</td>\n",
       "      <td>403533131</td>\n",
       "      <td>65</td>\n",
       "      <td>129</td>\n",
       "      <td>5.888834</td>\n",
       "      <td>0.806877</td>\n",
       "      <td>0.523077</td>\n",
       "    </tr>\n",
       "    <tr>\n",
       "      <th>2</th>\n",
       "      <td>125</td>\n",
       "      <td>403533142</td>\n",
       "      <td>130</td>\n",
       "      <td>236</td>\n",
       "      <td>5.779661</td>\n",
       "      <td>1.615474</td>\n",
       "      <td>0.317757</td>\n",
       "    </tr>\n",
       "    <tr>\n",
       "      <th>3</th>\n",
       "      <td>125</td>\n",
       "      <td>403533173</td>\n",
       "      <td>237</td>\n",
       "      <td>286</td>\n",
       "      <td>0.193563</td>\n",
       "      <td>1.638576</td>\n",
       "      <td>0.740000</td>\n",
       "    </tr>\n",
       "    <tr>\n",
       "      <th>4</th>\n",
       "      <td>125</td>\n",
       "      <td>403533184</td>\n",
       "      <td>287</td>\n",
       "      <td>319</td>\n",
       "      <td>2.306770</td>\n",
       "      <td>2.450495</td>\n",
       "      <td>0.787879</td>\n",
       "    </tr>\n",
       "    <tr>\n",
       "      <th>5</th>\n",
       "      <td>125</td>\n",
       "      <td>403533195</td>\n",
       "      <td>320</td>\n",
       "      <td>382</td>\n",
       "      <td>5.905306</td>\n",
       "      <td>2.717603</td>\n",
       "      <td>0.682540</td>\n",
       "    </tr>\n",
       "    <tr>\n",
       "      <th>6</th>\n",
       "      <td>125</td>\n",
       "      <td>403533222</td>\n",
       "      <td>383</td>\n",
       "      <td>483</td>\n",
       "      <td>2.736710</td>\n",
       "      <td>1.174099</td>\n",
       "      <td>0.445545</td>\n",
       "    </tr>\n",
       "    <tr>\n",
       "      <th>7</th>\n",
       "      <td>125</td>\n",
       "      <td>403533241</td>\n",
       "      <td>484</td>\n",
       "      <td>632</td>\n",
       "      <td>5.194813</td>\n",
       "      <td>1.147361</td>\n",
       "      <td>0.416107</td>\n",
       "    </tr>\n",
       "    <tr>\n",
       "      <th>8</th>\n",
       "      <td>125</td>\n",
       "      <td>403533242</td>\n",
       "      <td>633</td>\n",
       "      <td>738</td>\n",
       "      <td>3.142933</td>\n",
       "      <td>1.921447</td>\n",
       "      <td>0.735849</td>\n",
       "    </tr>\n",
       "    <tr>\n",
       "      <th>9</th>\n",
       "      <td>125</td>\n",
       "      <td>403533280</td>\n",
       "      <td>739</td>\n",
       "      <td>786</td>\n",
       "      <td>3.297051</td>\n",
       "      <td>2.753681</td>\n",
       "      <td>0.625000</td>\n",
       "    </tr>\n",
       "  </tbody>\n",
       "</table>\n",
       "</div>"
      ],
      "text/plain": [
       "   batch_id   event_id  first_pulse_index  last_pulse_index   azimuth  \\\n",
       "0       125  403533054                  0                64  5.036863   \n",
       "1       125  403533131                 65               129  5.888834   \n",
       "2       125  403533142                130               236  5.779661   \n",
       "3       125  403533173                237               286  0.193563   \n",
       "4       125  403533184                287               319  2.306770   \n",
       "5       125  403533195                320               382  5.905306   \n",
       "6       125  403533222                383               483  2.736710   \n",
       "7       125  403533241                484               632  5.194813   \n",
       "8       125  403533242                633               738  3.142933   \n",
       "9       125  403533280                739               786  3.297051   \n",
       "\n",
       "     zenith  auxiliary_ratio  \n",
       "0  1.047974         0.692308  \n",
       "1  0.806877         0.523077  \n",
       "2  1.615474         0.317757  \n",
       "3  1.638576         0.740000  \n",
       "4  2.450495         0.787879  \n",
       "5  2.717603         0.682540  \n",
       "6  1.174099         0.445545  \n",
       "7  1.147361         0.416107  \n",
       "8  1.921447         0.735849  \n",
       "9  2.753681         0.625000  "
      ]
     },
     "execution_count": 10,
     "metadata": {},
     "output_type": "execute_result"
    }
   ],
   "source": [
    "train_meta_ =   train_meta_.merge(auxiliary_rate, on = \"event_id\")\n",
    "train_meta_.head(10)"
   ]
  },
  {
   "cell_type": "code",
   "execution_count": 11,
   "id": "5f8e3869",
   "metadata": {
    "execution": {
     "iopub.execute_input": "2023-06-04T06:29:17.853656Z",
     "iopub.status.busy": "2023-06-04T06:29:17.850023Z",
     "iopub.status.idle": "2023-06-04T06:29:18.956926Z",
     "shell.execute_reply": "2023-06-04T06:29:18.954463Z"
    },
    "papermill": {
     "duration": 1.14678,
     "end_time": "2023-06-04T06:29:18.963621",
     "exception": false,
     "start_time": "2023-06-04T06:29:17.816841",
     "status": "completed"
    },
    "tags": []
   },
   "outputs": [],
   "source": [
    "sample = train_meta_[train_meta_[\"auxiliary_ratio\"] > 0.95].loc[54321]\n",
    "train_batch_ = train_batch[train_batch[\"event_id\"] ==sample.event_id]"
   ]
  },
  {
   "cell_type": "code",
   "execution_count": 12,
   "id": "6ffe38b2",
   "metadata": {
    "execution": {
     "iopub.execute_input": "2023-06-04T06:29:19.020013Z",
     "iopub.status.busy": "2023-06-04T06:29:19.019468Z",
     "iopub.status.idle": "2023-06-04T06:29:19.314215Z",
     "shell.execute_reply": "2023-06-04T06:29:19.313345Z"
    },
    "papermill": {
     "duration": 0.327893,
     "end_time": "2023-06-04T06:29:19.318383",
     "exception": false,
     "start_time": "2023-06-04T06:29:18.990490",
     "status": "completed"
    },
    "tags": []
   },
   "outputs": [
    {
     "data": {
      "text/plain": [
       "18"
      ]
     },
     "execution_count": 12,
     "metadata": {},
     "output_type": "execute_result"
    }
   ],
   "source": [
    "del train_batch\n",
    "\n",
    "gc.collect()"
   ]
  },
  {
   "cell_type": "code",
   "execution_count": 13,
   "id": "411e0db2",
   "metadata": {
    "execution": {
     "iopub.execute_input": "2023-06-04T06:29:19.355555Z",
     "iopub.status.busy": "2023-06-04T06:29:19.354353Z",
     "iopub.status.idle": "2023-06-04T06:29:19.371989Z",
     "shell.execute_reply": "2023-06-04T06:29:19.370555Z"
    },
    "papermill": {
     "duration": 0.039922,
     "end_time": "2023-06-04T06:29:19.375578",
     "exception": false,
     "start_time": "2023-06-04T06:29:19.335656",
     "status": "completed"
    },
    "tags": []
   },
   "outputs": [],
   "source": [
    "train_batch_ = train_batch_.merge(sensor_geometry, on = \"sensor_id\", how = \"left\")"
   ]
  },
  {
   "cell_type": "code",
   "execution_count": 14,
   "id": "ce16de51",
   "metadata": {
    "execution": {
     "iopub.execute_input": "2023-06-04T06:29:19.412202Z",
     "iopub.status.busy": "2023-06-04T06:29:19.411759Z",
     "iopub.status.idle": "2023-06-04T06:29:19.587338Z",
     "shell.execute_reply": "2023-06-04T06:29:19.585848Z"
    },
    "papermill": {
     "duration": 0.197577,
     "end_time": "2023-06-04T06:29:19.590497",
     "exception": false,
     "start_time": "2023-06-04T06:29:19.392920",
     "status": "completed"
    },
    "tags": []
   },
   "outputs": [
    {
     "data": {
      "text/html": [
       "<div>\n",
       "<style scoped>\n",
       "    .dataframe tbody tr th:only-of-type {\n",
       "        vertical-align: middle;\n",
       "    }\n",
       "\n",
       "    .dataframe tbody tr th {\n",
       "        vertical-align: top;\n",
       "    }\n",
       "\n",
       "    .dataframe thead th {\n",
       "        text-align: right;\n",
       "    }\n",
       "</style>\n",
       "<table border=\"1\" class=\"dataframe\">\n",
       "  <thead>\n",
       "    <tr style=\"text-align: right;\">\n",
       "      <th></th>\n",
       "      <th>event_id</th>\n",
       "      <th>sensor_id</th>\n",
       "      <th>time</th>\n",
       "      <th>charge</th>\n",
       "      <th>auxiliary</th>\n",
       "      <th>x</th>\n",
       "      <th>y</th>\n",
       "      <th>z</th>\n",
       "      <th>batch_id</th>\n",
       "      <th>first_pulse_index</th>\n",
       "      <th>last_pulse_index</th>\n",
       "      <th>azimuth</th>\n",
       "      <th>zenith</th>\n",
       "      <th>auxiliary_ratio</th>\n",
       "    </tr>\n",
       "  </thead>\n",
       "  <tbody>\n",
       "    <tr>\n",
       "      <th>0</th>\n",
       "      <td>404418940</td>\n",
       "      <td>578</td>\n",
       "      <td>5951</td>\n",
       "      <td>0.375</td>\n",
       "      <td>True</td>\n",
       "      <td>33.416087</td>\n",
       "      <td>-319.273333</td>\n",
       "      <td>-70.711594</td>\n",
       "      <td>125</td>\n",
       "      <td>9812188</td>\n",
       "      <td>9812256</td>\n",
       "      <td>4.984989</td>\n",
       "      <td>0.490384</td>\n",
       "      <td>0.956522</td>\n",
       "    </tr>\n",
       "    <tr>\n",
       "      <th>1</th>\n",
       "      <td>404418940</td>\n",
       "      <td>2884</td>\n",
       "      <td>6060</td>\n",
       "      <td>1.325</td>\n",
       "      <td>True</td>\n",
       "      <td>469.926087</td>\n",
       "      <td>173.456667</td>\n",
       "      <td>514.548406</td>\n",
       "      <td>125</td>\n",
       "      <td>9812188</td>\n",
       "      <td>9812256</td>\n",
       "      <td>4.984989</td>\n",
       "      <td>0.490384</td>\n",
       "      <td>0.956522</td>\n",
       "    </tr>\n",
       "    <tr>\n",
       "      <th>2</th>\n",
       "      <td>404418940</td>\n",
       "      <td>3519</td>\n",
       "      <td>6060</td>\n",
       "      <td>0.425</td>\n",
       "      <td>True</td>\n",
       "      <td>503.146087</td>\n",
       "      <td>303.436667</td>\n",
       "      <td>-79.211594</td>\n",
       "      <td>125</td>\n",
       "      <td>9812188</td>\n",
       "      <td>9812256</td>\n",
       "      <td>4.984989</td>\n",
       "      <td>0.490384</td>\n",
       "      <td>0.956522</td>\n",
       "    </tr>\n",
       "    <tr>\n",
       "      <th>3</th>\n",
       "      <td>404418940</td>\n",
       "      <td>63</td>\n",
       "      <td>6308</td>\n",
       "      <td>0.225</td>\n",
       "      <td>True</td>\n",
       "      <td>-134.923913</td>\n",
       "      <td>-455.893333</td>\n",
       "      <td>527.368406</td>\n",
       "      <td>125</td>\n",
       "      <td>9812188</td>\n",
       "      <td>9812256</td>\n",
       "      <td>4.984989</td>\n",
       "      <td>0.490384</td>\n",
       "      <td>0.956522</td>\n",
       "    </tr>\n",
       "    <tr>\n",
       "      <th>4</th>\n",
       "      <td>404418940</td>\n",
       "      <td>2968</td>\n",
       "      <td>6698</td>\n",
       "      <td>0.925</td>\n",
       "      <td>True</td>\n",
       "      <td>574.246087</td>\n",
       "      <td>216.476667</td>\n",
       "      <td>95.818406</td>\n",
       "      <td>125</td>\n",
       "      <td>9812188</td>\n",
       "      <td>9812256</td>\n",
       "      <td>4.984989</td>\n",
       "      <td>0.490384</td>\n",
       "      <td>0.956522</td>\n",
       "    </tr>\n",
       "    <tr>\n",
       "      <th>5</th>\n",
       "      <td>404418940</td>\n",
       "      <td>1929</td>\n",
       "      <td>6842</td>\n",
       "      <td>1.275</td>\n",
       "      <td>True</td>\n",
       "      <td>-326.513913</td>\n",
       "      <td>-47.873333</td>\n",
       "      <td>425.308406</td>\n",
       "      <td>125</td>\n",
       "      <td>9812188</td>\n",
       "      <td>9812256</td>\n",
       "      <td>4.984989</td>\n",
       "      <td>0.490384</td>\n",
       "      <td>0.956522</td>\n",
       "    </tr>\n",
       "    <tr>\n",
       "      <th>6</th>\n",
       "      <td>404418940</td>\n",
       "      <td>3802</td>\n",
       "      <td>6861</td>\n",
       "      <td>1.275</td>\n",
       "      <td>True</td>\n",
       "      <td>52.136087</td>\n",
       "      <td>338.526667</td>\n",
       "      <td>228.458406</td>\n",
       "      <td>125</td>\n",
       "      <td>9812188</td>\n",
       "      <td>9812256</td>\n",
       "      <td>4.984989</td>\n",
       "      <td>0.490384</td>\n",
       "      <td>0.956522</td>\n",
       "    </tr>\n",
       "    <tr>\n",
       "      <th>7</th>\n",
       "      <td>404418940</td>\n",
       "      <td>1281</td>\n",
       "      <td>7035</td>\n",
       "      <td>0.725</td>\n",
       "      <td>True</td>\n",
       "      <td>-494.553913</td>\n",
       "      <td>-184.603333</td>\n",
       "      <td>218.528406</td>\n",
       "      <td>125</td>\n",
       "      <td>9812188</td>\n",
       "      <td>9812256</td>\n",
       "      <td>4.984989</td>\n",
       "      <td>0.490384</td>\n",
       "      <td>0.956522</td>\n",
       "    </tr>\n",
       "    <tr>\n",
       "      <th>8</th>\n",
       "      <td>404418940</td>\n",
       "      <td>2122</td>\n",
       "      <td>7424</td>\n",
       "      <td>2.575</td>\n",
       "      <td>True</td>\n",
       "      <td>44.166087</td>\n",
       "      <td>10.676667</td>\n",
       "      <td>204.878406</td>\n",
       "      <td>125</td>\n",
       "      <td>9812188</td>\n",
       "      <td>9812256</td>\n",
       "      <td>4.984989</td>\n",
       "      <td>0.490384</td>\n",
       "      <td>0.956522</td>\n",
       "    </tr>\n",
       "    <tr>\n",
       "      <th>9</th>\n",
       "      <td>404418940</td>\n",
       "      <td>938</td>\n",
       "      <td>7821</td>\n",
       "      <td>1.775</td>\n",
       "      <td>True</td>\n",
       "      <td>-168.523913</td>\n",
       "      <td>-242.233333</td>\n",
       "      <td>-70.771594</td>\n",
       "      <td>125</td>\n",
       "      <td>9812188</td>\n",
       "      <td>9812256</td>\n",
       "      <td>4.984989</td>\n",
       "      <td>0.490384</td>\n",
       "      <td>0.956522</td>\n",
       "    </tr>\n",
       "  </tbody>\n",
       "</table>\n",
       "</div>"
      ],
      "text/plain": [
       "    event_id  sensor_id  time  charge  auxiliary           x           y  \\\n",
       "0  404418940        578  5951   0.375       True   33.416087 -319.273333   \n",
       "1  404418940       2884  6060   1.325       True  469.926087  173.456667   \n",
       "2  404418940       3519  6060   0.425       True  503.146087  303.436667   \n",
       "3  404418940         63  6308   0.225       True -134.923913 -455.893333   \n",
       "4  404418940       2968  6698   0.925       True  574.246087  216.476667   \n",
       "5  404418940       1929  6842   1.275       True -326.513913  -47.873333   \n",
       "6  404418940       3802  6861   1.275       True   52.136087  338.526667   \n",
       "7  404418940       1281  7035   0.725       True -494.553913 -184.603333   \n",
       "8  404418940       2122  7424   2.575       True   44.166087   10.676667   \n",
       "9  404418940        938  7821   1.775       True -168.523913 -242.233333   \n",
       "\n",
       "            z  batch_id  first_pulse_index  last_pulse_index   azimuth  \\\n",
       "0  -70.711594       125            9812188           9812256  4.984989   \n",
       "1  514.548406       125            9812188           9812256  4.984989   \n",
       "2  -79.211594       125            9812188           9812256  4.984989   \n",
       "3  527.368406       125            9812188           9812256  4.984989   \n",
       "4   95.818406       125            9812188           9812256  4.984989   \n",
       "5  425.308406       125            9812188           9812256  4.984989   \n",
       "6  228.458406       125            9812188           9812256  4.984989   \n",
       "7  218.528406       125            9812188           9812256  4.984989   \n",
       "8  204.878406       125            9812188           9812256  4.984989   \n",
       "9  -70.771594       125            9812188           9812256  4.984989   \n",
       "\n",
       "     zenith  auxiliary_ratio  \n",
       "0  0.490384         0.956522  \n",
       "1  0.490384         0.956522  \n",
       "2  0.490384         0.956522  \n",
       "3  0.490384         0.956522  \n",
       "4  0.490384         0.956522  \n",
       "5  0.490384         0.956522  \n",
       "6  0.490384         0.956522  \n",
       "7  0.490384         0.956522  \n",
       "8  0.490384         0.956522  \n",
       "9  0.490384         0.956522  "
      ]
     },
     "execution_count": 14,
     "metadata": {},
     "output_type": "execute_result"
    }
   ],
   "source": [
    "train_batch_.x -= train_batch_.x.mean()\n",
    "train_batch_.y -= train_batch_.y.mean()\n",
    "train_batch_.z -= train_batch_.z.mean()\n",
    "\n",
    "train_batch_ = train_batch_.merge(train_meta_, on = \"event_id\", how = \"left\")\n",
    "\n",
    "train_batch_.head(10)"
   ]
  },
  {
   "cell_type": "code",
   "execution_count": 15,
   "id": "4eb38aad",
   "metadata": {
    "execution": {
     "iopub.execute_input": "2023-06-04T06:29:19.629611Z",
     "iopub.status.busy": "2023-06-04T06:29:19.629128Z",
     "iopub.status.idle": "2023-06-04T06:29:19.650435Z",
     "shell.execute_reply": "2023-06-04T06:29:19.648873Z"
    },
    "papermill": {
     "duration": 0.043721,
     "end_time": "2023-06-04T06:29:19.653248",
     "exception": false,
     "start_time": "2023-06-04T06:29:19.609527",
     "status": "completed"
    },
    "tags": []
   },
   "outputs": [
    {
     "data": {
      "text/html": [
       "<div>\n",
       "<style scoped>\n",
       "    .dataframe tbody tr th:only-of-type {\n",
       "        vertical-align: middle;\n",
       "    }\n",
       "\n",
       "    .dataframe tbody tr th {\n",
       "        vertical-align: top;\n",
       "    }\n",
       "\n",
       "    .dataframe thead th {\n",
       "        text-align: right;\n",
       "    }\n",
       "</style>\n",
       "<table border=\"1\" class=\"dataframe\">\n",
       "  <thead>\n",
       "    <tr style=\"text-align: right;\">\n",
       "      <th></th>\n",
       "      <th>x</th>\n",
       "      <th>y</th>\n",
       "      <th>z</th>\n",
       "    </tr>\n",
       "  </thead>\n",
       "  <tbody>\n",
       "    <tr>\n",
       "      <th>0</th>\n",
       "      <td>-63.400333</td>\n",
       "      <td>226.787019</td>\n",
       "      <td>-134.617995</td>\n",
       "    </tr>\n",
       "    <tr>\n",
       "      <th>1</th>\n",
       "      <td>63.400333</td>\n",
       "      <td>-226.787019</td>\n",
       "      <td>134.617995</td>\n",
       "    </tr>\n",
       "  </tbody>\n",
       "</table>\n",
       "</div>"
      ],
      "text/plain": [
       "           x           y           z\n",
       "0 -63.400333  226.787019 -134.617995\n",
       "1  63.400333 -226.787019  134.617995"
      ]
     },
     "execution_count": 15,
     "metadata": {},
     "output_type": "execute_result"
    }
   ],
   "source": [
    "zenith_true = train_batch_.zenith[0]\n",
    "azimuth_true = train_batch_.azimuth[0]\n",
    "\n",
    "vector = np.array([\n",
    "    np.sin(zenith_true) * np.cos(azimuth_true),\n",
    "    np.sin(zenith_true) * np.sin(azimuth_true),\n",
    "    np.cos(azimuth_true)\n",
    "])\n",
    "\n",
    "vector_escalar = np.array([-500, 500])\n",
    "\n",
    "x = vector[0] * vector_escalar \n",
    "y = vector[1] * vector_escalar \n",
    "z = vector[2] * vector_escalar \n",
    "\n",
    "direccion = pd.DataFrame({\"x\" : x, \"y\" : y, \"z\": z})\n",
    "direccion.head()"
   ]
  },
  {
   "cell_type": "markdown",
   "id": "e9ea7ff1",
   "metadata": {
    "papermill": {
     "duration": 0.017372,
     "end_time": "2023-06-04T06:29:19.688936",
     "exception": false,
     "start_time": "2023-06-04T06:29:19.671564",
     "status": "completed"
    },
    "tags": []
   },
   "source": [
    "## <p style=\"font-family:JetBrains Mono; font-weight:bold; letter-spacing: 2px; color:#006600; font-size:140%; text-align:left;padding: 0px; border-bottom: 3px solid #003300\">PCA vs Noisy events</p> "
   ]
  },
  {
   "cell_type": "code",
   "execution_count": 16,
   "id": "1979ac19",
   "metadata": {
    "execution": {
     "iopub.execute_input": "2023-06-04T06:29:19.727627Z",
     "iopub.status.busy": "2023-06-04T06:29:19.727018Z",
     "iopub.status.idle": "2023-06-04T06:29:19.757146Z",
     "shell.execute_reply": "2023-06-04T06:29:19.755738Z"
    },
    "papermill": {
     "duration": 0.053056,
     "end_time": "2023-06-04T06:29:19.759882",
     "exception": false,
     "start_time": "2023-06-04T06:29:19.706826",
     "status": "completed"
    },
    "tags": []
   },
   "outputs": [],
   "source": [
    "pca = PCA(n_components = 1).fit(train_batch_[train_batch_[\"charge\"] > train_batch_[\"charge\"].mean()][[\"x\", \"y\", \"z\"]])"
   ]
  },
  {
   "cell_type": "code",
   "execution_count": 17,
   "id": "4a7c803d",
   "metadata": {
    "execution": {
     "iopub.execute_input": "2023-06-04T06:29:19.801214Z",
     "iopub.status.busy": "2023-06-04T06:29:19.800708Z",
     "iopub.status.idle": "2023-06-04T06:29:19.808279Z",
     "shell.execute_reply": "2023-06-04T06:29:19.806968Z"
    },
    "papermill": {
     "duration": 0.031606,
     "end_time": "2023-06-04T06:29:19.811020",
     "exception": false,
     "start_time": "2023-06-04T06:29:19.779414",
     "status": "completed"
    },
    "tags": []
   },
   "outputs": [],
   "source": [
    "vector_pca = pca.components_[0]\n",
    "\n",
    "x_pca = vector_pca[0] * vector_escalar\n",
    "y_pca = vector_pca[1] * vector_escalar\n",
    "z_pca = vector_pca[2] * vector_escalar\n",
    "\n",
    "vector_pca_df = pd.DataFrame({'x_pca': x_pca, 'y_pca': y_pca, 'z_pca': z_pca})"
   ]
  },
  {
   "cell_type": "code",
   "execution_count": 18,
   "id": "f29e82ac",
   "metadata": {
    "execution": {
     "iopub.execute_input": "2023-06-04T06:29:19.852119Z",
     "iopub.status.busy": "2023-06-04T06:29:19.851603Z",
     "iopub.status.idle": "2023-06-04T06:29:19.859379Z",
     "shell.execute_reply": "2023-06-04T06:29:19.857921Z"
    },
    "papermill": {
     "duration": 0.032112,
     "end_time": "2023-06-04T06:29:19.862183",
     "exception": false,
     "start_time": "2023-06-04T06:29:19.830071",
     "status": "completed"
    },
    "tags": []
   },
   "outputs": [
    {
     "name": "stdout",
     "output_type": "stream",
     "text": [
      "component 1: 60.98%\n"
     ]
    }
   ],
   "source": [
    "for i, component in enumerate(pca.components_):\n",
    "    print(f\"component {i + 1}: {pca.explained_variance_ratio_[i]:.2%}\")"
   ]
  },
  {
   "cell_type": "code",
   "execution_count": 19,
   "id": "79a6d23c",
   "metadata": {
    "execution": {
     "iopub.execute_input": "2023-06-04T06:29:19.905336Z",
     "iopub.status.busy": "2023-06-04T06:29:19.904849Z",
     "iopub.status.idle": "2023-06-04T06:29:19.915317Z",
     "shell.execute_reply": "2023-06-04T06:29:19.914276Z"
    },
    "papermill": {
     "duration": 0.035514,
     "end_time": "2023-06-04T06:29:19.918039",
     "exception": false,
     "start_time": "2023-06-04T06:29:19.882525",
     "status": "completed"
    },
    "tags": []
   },
   "outputs": [
    {
     "name": "stdout",
     "output_type": "stream",
     "text": [
      "The value of error: 0.61\n"
     ]
    }
   ],
   "source": [
    "zenith = np.arccos(vector_pca[2])\n",
    "azimuth = np.arctan2(vector_pca[1], vector_pca[0])\n",
    "if azimuth < 0:\n",
    "    azimuth = 2*np.pi + azimuth\n",
    "\n",
    "event_error = angular_dist_score(azimuth_true, zenith_true, azimuth, zenith)\n",
    "print(f'The value of error: {event_error:.2f}')"
   ]
  },
  {
   "cell_type": "code",
   "execution_count": 20,
   "id": "2f29d52d",
   "metadata": {
    "execution": {
     "iopub.execute_input": "2023-06-04T06:29:19.959394Z",
     "iopub.status.busy": "2023-06-04T06:29:19.958827Z",
     "iopub.status.idle": "2023-06-04T06:29:22.570059Z",
     "shell.execute_reply": "2023-06-04T06:29:22.568147Z"
    },
    "papermill": {
     "duration": 2.635707,
     "end_time": "2023-06-04T06:29:22.573106",
     "exception": false,
     "start_time": "2023-06-04T06:29:19.937399",
     "status": "completed"
    },
    "tags": []
   },
   "outputs": [
    {
     "data": {
      "text/html": [
       "        <script type=\"text/javascript\">\n",
       "        window.PlotlyConfig = {MathJaxConfig: 'local'};\n",
       "        if (window.MathJax && window.MathJax.Hub && window.MathJax.Hub.Config) {window.MathJax.Hub.Config({SVG: {font: \"STIX-Web\"}});}\n",
       "        if (typeof require !== 'undefined') {\n",
       "        require.undef(\"plotly\");\n",
       "        requirejs.config({\n",
       "            paths: {\n",
       "                'plotly': ['https://cdn.plot.ly/plotly-2.20.0.min']\n",
       "            }\n",
       "        });\n",
       "        require(['plotly'], function(Plotly) {\n",
       "            window._Plotly = Plotly;\n",
       "        });\n",
       "        }\n",
       "        </script>\n",
       "        "
      ]
     },
     "metadata": {},
     "output_type": "display_data"
    },
    {
     "data": {
      "text/html": [
       "<div>                            <div id=\"073d8ebf-a4a1-4581-a6a0-5dc3ed5e2c0d\" class=\"plotly-graph-div\" style=\"height:525px; width:100%;\"></div>            <script type=\"text/javascript\">                require([\"plotly\"], function(Plotly) {                    window.PLOTLYENV=window.PLOTLYENV || {};                                    if (document.getElementById(\"073d8ebf-a4a1-4581-a6a0-5dc3ed5e2c0d\")) {                    Plotly.newPlot(                        \"073d8ebf-a4a1-4581-a6a0-5dc3ed5e2c0d\",                        [{\"hovertemplate\":\"x=%{x}<br>y=%{y}<br>z=%{z}<br>charge=%{marker.size}<extra></extra>\",\"legendgroup\":\"\",\"marker\":{\"color\":\"#636efa\",\"size\":[0.375,1.3250000476837158,0.42500001192092896,0.22499999403953552,0.925000011920929,1.274999976158142,1.274999976158142,0.7250000238418579,2.575000047683716,1.774999976158142,1.024999976158142,0.675000011920929,0.675000011920929,0.625,0.375,0.824999988079071,0.9750000238418579,1.274999976158142,1.125,1.375,0.675000011920929,1.0750000476837158,1.274999976158142,0.574999988079071,0.375,1.024999976158142,1.0750000476837158,0.7749999761581421,0.42500001192092896,0.9750000238418579,1.375,0.675000011920929,1.125,0.625,1.3250000476837158,1.1749999523162842,0.375,0.925000011920929,0.22499999403953552,1.024999976158142,0.7749999761581421,1.375,1.0750000476837158,1.3250000476837158,0.9750000238418579,1.0750000476837158,0.22499999403953552,0.824999988079071,1.524999976158142,2.7750000953674316,0.824999988079071,1.024999976158142,0.375,0.824999988079071,1.6749999523162842,1.274999976158142,1.125,0.5249999761581421,1.0750000476837158,0.42500001192092896,1.375,0.875,1.225000023841858,0.824999988079071,1.024999976158142,0.7749999761581421],\"sizemode\":\"area\",\"sizeref\":0.006937500238418579,\"symbol\":\"circle\"},\"mode\":\"markers\",\"name\":\"\",\"scene\":\"scene\",\"showlegend\":false,\"x\":[33.41608695652173,469.9260869565218,503.14608695652174,-134.92391304347828,574.2460869565217,-326.5139130434782,52.13608695652173,-494.55391304347825,44.16608695652173,-168.52391304347827,327.90608695652173,-45.39391304347827,-45.39391304347827,-123.89391304347826,-405.2639130434782,-45.39391304347827,-123.89391304347826,498.30608695652177,-123.89391304347826,-11.803913043478266,-24.093913043478263,-79.92391304347827,-90.17391304347827,-528.7539130434783,29.126086956521736,44.16608695652173,-13.093913043478267,-123.89391304347826,-35.08391304347827,-0.41391304347826585,-202.67391304347828,-11.803913043478266,-13.093913043478267,44.16608695652173,55.076086956521735,70.24608695652174,70.24608695652174,-45.39391304347827,-226.21391304347827,-202.67391304347828,-13.093913043478267,498.30608695652177,-68.82391304347827,39.47608695652173,122.84608695652173,369.43608695652176,-79.92391304347827,98.91608695652174,-11.803913043478266,-11.803913043478266,-11.803913043478266,403.70608695652174,98.91608695652174,172.34608695652173,-258.2639130434782,-158.35391304347826,-405.2639130434782,246.02608695652174,380.2260869565218,44.16608695652173,77.28608695652173,-0.41391304347826585,104.81608695652173,-360.56391304347824,52.13608695652173,-258.2639130434782],\"y\":[-319.2733333333333,173.45666666666668,303.43666666666667,-455.8933333333333,216.47666666666666,-47.87333333333334,338.5266666666667,-184.60333333333332,10.676666666666662,-242.23333333333335,172.75666666666666,-221.9633333333333,-221.9633333333333,-125.47333333333333,49.04666666666667,-221.9633333333333,-125.47333333333333,-12.893333333333338,-125.47333333333333,-33.943333333333335,438.7966666666667,-8.773333333333333,-338.74333333333334,29.956666666666663,-27.373333333333342,10.676666666666662,52.276666666666664,-125.47333333333333,107.99666666666667,-105.07333333333332,-28.473333333333336,-33.943333333333335,52.276666666666664,10.676666666666662,-59.96333333333333,-21.04333333333333,-21.04333333333333,-221.9633333333333,516.4166666666666,-28.473333333333336,52.276666666666664,-12.893333333333338,322.4766666666667,81.04666666666667,-85.69333333333333,-46.62333333333334,-8.773333333333333,458.3466666666667,-33.943333333333335,-33.943333333333335,-33.943333333333335,-260.8233333333333,458.3466666666667,361.0966666666667,-475.52333333333337,88.92666666666666,49.04666666666667,-66.31333333333333,284.45666666666665,10.676666666666662,-202.68333333333334,-105.07333333333332,72.64666666666666,166.11666666666667,338.5266666666667,-475.52333333333337],\"z\":[-70.71159420289855,514.5484057971014,-79.21159420289855,527.3684057971014,95.81840579710143,425.30840579710144,228.45840579710142,218.5284057971014,204.87840579710144,-70.77159420289856,494.11840579710145,-0.22159420289855802,-0.22159420289855802,-151.26159420289855,375.91840579710146,-119.37159420289855,-219.21159420289854,580.2084057971015,-270.15159420289854,-106.09159420289855,16.488405797101443,-355.08159420289854,-68.41159420289857,206.56840579710143,-241.97159420289853,-322.77159420289854,-373.00159420289856,-117.22159420289857,-293.88159420289855,-377.55159420289857,-402.44159420289856,-323.3515942028985,-155.73159420289858,204.87840579710144,-398.43159420289857,-270.70159420289855,-375.83159420289854,-425.74159420289857,563.7584057971014,-113.09159420289855,-351.97159420289853,580.2084057971015,-394.00159420289856,-275.78159420289853,-432.21159420289854,-48.82159420289857,-355.08159420289854,582.7784057971014,199.28840579710146,199.28840579710146,199.28840579710146,182.01840579710142,-166.14159420289855,29.418405797101443,319.0784057971014,119.62840579710144,375.91840579710146,218.95840579710142,49.25840579710144,204.87840579710144,-205.69159420289856,303.2784057971014,-397.7915942028985,406.21840579710147,228.45840579710142,319.0784057971014],\"type\":\"scatter3d\"},{\"hovertemplate\":\"x=%{x}<br>y=%{y}<br>z=%{z}<br>charge=%{marker.size}<extra></extra>\",\"legendgroup\":\"\",\"marker\":{\"color\":\"aquamarine\",\"size\":[0.7749999761581421,0.2750000059604645,1.125],\"sizemode\":\"area\",\"sizeref\":0.0028125,\"symbol\":\"circle\"},\"mode\":\"markers\",\"name\":\"\",\"scene\":\"scene\",\"showlegend\":false,\"x\":[-79.92391304347827,-79.92391304347827,-79.92391304347827],\"y\":[-8.773333333333333,-8.773333333333333,-8.773333333333333],\"z\":[-304.01159420289855,-286.99159420289857,-252.95159420289855],\"type\":\"scatter3d\"},{\"hovertemplate\":\"x=%{x}<br>y=%{y}<br>z=%{z}<extra></extra>\",\"legendgroup\":\"\",\"line\":{\"color\":\"white\",\"dash\":\"solid\"},\"marker\":{\"symbol\":\"circle\"},\"mode\":\"lines\",\"name\":\"\",\"scene\":\"scene\",\"showlegend\":false,\"x\":[-63.40033323901496,63.40033323901496],\"y\":[226.78701850827468,-226.78701850827468],\"z\":[-134.6179949416436,134.6179949416436],\"type\":\"scatter3d\"},{\"hovertemplate\":\"x_pca=%{x}<br>y_pca=%{y}<br>z_pca=%{z}<extra></extra>\",\"legendgroup\":\"\",\"line\":{\"color\":\"steelblue\",\"dash\":\"solid\"},\"marker\":{\"symbol\":\"circle\"},\"mode\":\"lines\",\"name\":\"\",\"scene\":\"scene\",\"showlegend\":false,\"x\":[-181.27528599671277,181.27528599671277],\"y\":[-50.67854345251127,50.67854345251127],\"z\":[-463.21804360402666,463.21804360402666],\"type\":\"scatter3d\"}],                        {\"template\":{\"data\":{\"barpolar\":[{\"marker\":{\"line\":{\"color\":\"rgb(17,17,17)\",\"width\":0.5},\"pattern\":{\"fillmode\":\"overlay\",\"size\":10,\"solidity\":0.2}},\"type\":\"barpolar\"}],\"bar\":[{\"error_x\":{\"color\":\"#f2f5fa\"},\"error_y\":{\"color\":\"#f2f5fa\"},\"marker\":{\"line\":{\"color\":\"rgb(17,17,17)\",\"width\":0.5},\"pattern\":{\"fillmode\":\"overlay\",\"size\":10,\"solidity\":0.2}},\"type\":\"bar\"}],\"carpet\":[{\"aaxis\":{\"endlinecolor\":\"#A2B1C6\",\"gridcolor\":\"#506784\",\"linecolor\":\"#506784\",\"minorgridcolor\":\"#506784\",\"startlinecolor\":\"#A2B1C6\"},\"baxis\":{\"endlinecolor\":\"#A2B1C6\",\"gridcolor\":\"#506784\",\"linecolor\":\"#506784\",\"minorgridcolor\":\"#506784\",\"startlinecolor\":\"#A2B1C6\"},\"type\":\"carpet\"}],\"choropleth\":[{\"colorbar\":{\"outlinewidth\":0,\"ticks\":\"\"},\"type\":\"choropleth\"}],\"contourcarpet\":[{\"colorbar\":{\"outlinewidth\":0,\"ticks\":\"\"},\"type\":\"contourcarpet\"}],\"contour\":[{\"colorbar\":{\"outlinewidth\":0,\"ticks\":\"\"},\"colorscale\":[[0.0,\"#0d0887\"],[0.1111111111111111,\"#46039f\"],[0.2222222222222222,\"#7201a8\"],[0.3333333333333333,\"#9c179e\"],[0.4444444444444444,\"#bd3786\"],[0.5555555555555556,\"#d8576b\"],[0.6666666666666666,\"#ed7953\"],[0.7777777777777778,\"#fb9f3a\"],[0.8888888888888888,\"#fdca26\"],[1.0,\"#f0f921\"]],\"type\":\"contour\"}],\"heatmapgl\":[{\"colorbar\":{\"outlinewidth\":0,\"ticks\":\"\"},\"colorscale\":[[0.0,\"#0d0887\"],[0.1111111111111111,\"#46039f\"],[0.2222222222222222,\"#7201a8\"],[0.3333333333333333,\"#9c179e\"],[0.4444444444444444,\"#bd3786\"],[0.5555555555555556,\"#d8576b\"],[0.6666666666666666,\"#ed7953\"],[0.7777777777777778,\"#fb9f3a\"],[0.8888888888888888,\"#fdca26\"],[1.0,\"#f0f921\"]],\"type\":\"heatmapgl\"}],\"heatmap\":[{\"colorbar\":{\"outlinewidth\":0,\"ticks\":\"\"},\"colorscale\":[[0.0,\"#0d0887\"],[0.1111111111111111,\"#46039f\"],[0.2222222222222222,\"#7201a8\"],[0.3333333333333333,\"#9c179e\"],[0.4444444444444444,\"#bd3786\"],[0.5555555555555556,\"#d8576b\"],[0.6666666666666666,\"#ed7953\"],[0.7777777777777778,\"#fb9f3a\"],[0.8888888888888888,\"#fdca26\"],[1.0,\"#f0f921\"]],\"type\":\"heatmap\"}],\"histogram2dcontour\":[{\"colorbar\":{\"outlinewidth\":0,\"ticks\":\"\"},\"colorscale\":[[0.0,\"#0d0887\"],[0.1111111111111111,\"#46039f\"],[0.2222222222222222,\"#7201a8\"],[0.3333333333333333,\"#9c179e\"],[0.4444444444444444,\"#bd3786\"],[0.5555555555555556,\"#d8576b\"],[0.6666666666666666,\"#ed7953\"],[0.7777777777777778,\"#fb9f3a\"],[0.8888888888888888,\"#fdca26\"],[1.0,\"#f0f921\"]],\"type\":\"histogram2dcontour\"}],\"histogram2d\":[{\"colorbar\":{\"outlinewidth\":0,\"ticks\":\"\"},\"colorscale\":[[0.0,\"#0d0887\"],[0.1111111111111111,\"#46039f\"],[0.2222222222222222,\"#7201a8\"],[0.3333333333333333,\"#9c179e\"],[0.4444444444444444,\"#bd3786\"],[0.5555555555555556,\"#d8576b\"],[0.6666666666666666,\"#ed7953\"],[0.7777777777777778,\"#fb9f3a\"],[0.8888888888888888,\"#fdca26\"],[1.0,\"#f0f921\"]],\"type\":\"histogram2d\"}],\"histogram\":[{\"marker\":{\"pattern\":{\"fillmode\":\"overlay\",\"size\":10,\"solidity\":0.2}},\"type\":\"histogram\"}],\"mesh3d\":[{\"colorbar\":{\"outlinewidth\":0,\"ticks\":\"\"},\"type\":\"mesh3d\"}],\"parcoords\":[{\"line\":{\"colorbar\":{\"outlinewidth\":0,\"ticks\":\"\"}},\"type\":\"parcoords\"}],\"pie\":[{\"automargin\":true,\"type\":\"pie\"}],\"scatter3d\":[{\"line\":{\"colorbar\":{\"outlinewidth\":0,\"ticks\":\"\"}},\"marker\":{\"colorbar\":{\"outlinewidth\":0,\"ticks\":\"\"}},\"type\":\"scatter3d\"}],\"scattercarpet\":[{\"marker\":{\"colorbar\":{\"outlinewidth\":0,\"ticks\":\"\"}},\"type\":\"scattercarpet\"}],\"scattergeo\":[{\"marker\":{\"colorbar\":{\"outlinewidth\":0,\"ticks\":\"\"}},\"type\":\"scattergeo\"}],\"scattergl\":[{\"marker\":{\"line\":{\"color\":\"#283442\"}},\"type\":\"scattergl\"}],\"scattermapbox\":[{\"marker\":{\"colorbar\":{\"outlinewidth\":0,\"ticks\":\"\"}},\"type\":\"scattermapbox\"}],\"scatterpolargl\":[{\"marker\":{\"colorbar\":{\"outlinewidth\":0,\"ticks\":\"\"}},\"type\":\"scatterpolargl\"}],\"scatterpolar\":[{\"marker\":{\"colorbar\":{\"outlinewidth\":0,\"ticks\":\"\"}},\"type\":\"scatterpolar\"}],\"scatter\":[{\"marker\":{\"line\":{\"color\":\"#283442\"}},\"type\":\"scatter\"}],\"scatterternary\":[{\"marker\":{\"colorbar\":{\"outlinewidth\":0,\"ticks\":\"\"}},\"type\":\"scatterternary\"}],\"surface\":[{\"colorbar\":{\"outlinewidth\":0,\"ticks\":\"\"},\"colorscale\":[[0.0,\"#0d0887\"],[0.1111111111111111,\"#46039f\"],[0.2222222222222222,\"#7201a8\"],[0.3333333333333333,\"#9c179e\"],[0.4444444444444444,\"#bd3786\"],[0.5555555555555556,\"#d8576b\"],[0.6666666666666666,\"#ed7953\"],[0.7777777777777778,\"#fb9f3a\"],[0.8888888888888888,\"#fdca26\"],[1.0,\"#f0f921\"]],\"type\":\"surface\"}],\"table\":[{\"cells\":{\"fill\":{\"color\":\"#506784\"},\"line\":{\"color\":\"rgb(17,17,17)\"}},\"header\":{\"fill\":{\"color\":\"#2a3f5f\"},\"line\":{\"color\":\"rgb(17,17,17)\"}},\"type\":\"table\"}]},\"layout\":{\"annotationdefaults\":{\"arrowcolor\":\"#f2f5fa\",\"arrowhead\":0,\"arrowwidth\":1},\"autotypenumbers\":\"strict\",\"coloraxis\":{\"colorbar\":{\"outlinewidth\":0,\"ticks\":\"\"}},\"colorscale\":{\"diverging\":[[0,\"#8e0152\"],[0.1,\"#c51b7d\"],[0.2,\"#de77ae\"],[0.3,\"#f1b6da\"],[0.4,\"#fde0ef\"],[0.5,\"#f7f7f7\"],[0.6,\"#e6f5d0\"],[0.7,\"#b8e186\"],[0.8,\"#7fbc41\"],[0.9,\"#4d9221\"],[1,\"#276419\"]],\"sequential\":[[0.0,\"#0d0887\"],[0.1111111111111111,\"#46039f\"],[0.2222222222222222,\"#7201a8\"],[0.3333333333333333,\"#9c179e\"],[0.4444444444444444,\"#bd3786\"],[0.5555555555555556,\"#d8576b\"],[0.6666666666666666,\"#ed7953\"],[0.7777777777777778,\"#fb9f3a\"],[0.8888888888888888,\"#fdca26\"],[1.0,\"#f0f921\"]],\"sequentialminus\":[[0.0,\"#0d0887\"],[0.1111111111111111,\"#46039f\"],[0.2222222222222222,\"#7201a8\"],[0.3333333333333333,\"#9c179e\"],[0.4444444444444444,\"#bd3786\"],[0.5555555555555556,\"#d8576b\"],[0.6666666666666666,\"#ed7953\"],[0.7777777777777778,\"#fb9f3a\"],[0.8888888888888888,\"#fdca26\"],[1.0,\"#f0f921\"]]},\"colorway\":[\"#636efa\",\"#EF553B\",\"#00cc96\",\"#ab63fa\",\"#FFA15A\",\"#19d3f3\",\"#FF6692\",\"#B6E880\",\"#FF97FF\",\"#FECB52\"],\"font\":{\"color\":\"#f2f5fa\"},\"geo\":{\"bgcolor\":\"rgb(17,17,17)\",\"lakecolor\":\"rgb(17,17,17)\",\"landcolor\":\"rgb(17,17,17)\",\"showlakes\":true,\"showland\":true,\"subunitcolor\":\"#506784\"},\"hoverlabel\":{\"align\":\"left\"},\"hovermode\":\"closest\",\"mapbox\":{\"style\":\"dark\"},\"paper_bgcolor\":\"rgb(17,17,17)\",\"plot_bgcolor\":\"rgb(17,17,17)\",\"polar\":{\"angularaxis\":{\"gridcolor\":\"#506784\",\"linecolor\":\"#506784\",\"ticks\":\"\"},\"bgcolor\":\"rgb(17,17,17)\",\"radialaxis\":{\"gridcolor\":\"#506784\",\"linecolor\":\"#506784\",\"ticks\":\"\"}},\"scene\":{\"xaxis\":{\"backgroundcolor\":\"rgb(17,17,17)\",\"gridcolor\":\"#506784\",\"gridwidth\":2,\"linecolor\":\"#506784\",\"showbackground\":true,\"ticks\":\"\",\"zerolinecolor\":\"#C8D4E3\"},\"yaxis\":{\"backgroundcolor\":\"rgb(17,17,17)\",\"gridcolor\":\"#506784\",\"gridwidth\":2,\"linecolor\":\"#506784\",\"showbackground\":true,\"ticks\":\"\",\"zerolinecolor\":\"#C8D4E3\"},\"zaxis\":{\"backgroundcolor\":\"rgb(17,17,17)\",\"gridcolor\":\"#506784\",\"gridwidth\":2,\"linecolor\":\"#506784\",\"showbackground\":true,\"ticks\":\"\",\"zerolinecolor\":\"#C8D4E3\"}},\"shapedefaults\":{\"line\":{\"color\":\"#f2f5fa\"}},\"sliderdefaults\":{\"bgcolor\":\"#C8D4E3\",\"bordercolor\":\"rgb(17,17,17)\",\"borderwidth\":1,\"tickwidth\":0},\"ternary\":{\"aaxis\":{\"gridcolor\":\"#506784\",\"linecolor\":\"#506784\",\"ticks\":\"\"},\"baxis\":{\"gridcolor\":\"#506784\",\"linecolor\":\"#506784\",\"ticks\":\"\"},\"bgcolor\":\"rgb(17,17,17)\",\"caxis\":{\"gridcolor\":\"#506784\",\"linecolor\":\"#506784\",\"ticks\":\"\"}},\"title\":{\"x\":0.05},\"updatemenudefaults\":{\"bgcolor\":\"#506784\",\"borderwidth\":0},\"xaxis\":{\"automargin\":true,\"gridcolor\":\"#283442\",\"linecolor\":\"#506784\",\"ticks\":\"\",\"title\":{\"standoff\":15},\"zerolinecolor\":\"#283442\",\"zerolinewidth\":2},\"yaxis\":{\"automargin\":true,\"gridcolor\":\"#283442\",\"linecolor\":\"#506784\",\"ticks\":\"\",\"title\":{\"standoff\":15},\"zerolinecolor\":\"#283442\",\"zerolinewidth\":2}}}},                        {\"responsive\": true}                    ).then(function(){\n",
       "                            \n",
       "var gd = document.getElementById('073d8ebf-a4a1-4581-a6a0-5dc3ed5e2c0d');\n",
       "var x = new MutationObserver(function (mutations, observer) {{\n",
       "        var display = window.getComputedStyle(gd).display;\n",
       "        if (!display || display === 'none') {{\n",
       "            console.log([gd, 'removed!']);\n",
       "            Plotly.purge(gd);\n",
       "            observer.disconnect();\n",
       "        }}\n",
       "}});\n",
       "\n",
       "// Listen for the removal of the full notebook cells\n",
       "var notebookContainer = gd.closest('#notebook-container');\n",
       "if (notebookContainer) {{\n",
       "    x.observe(notebookContainer, {childList: true});\n",
       "}}\n",
       "\n",
       "// Listen for the clearing of the current output cell\n",
       "var outputEl = gd.closest('.output');\n",
       "if (outputEl) {{\n",
       "    x.observe(outputEl, {childList: true});\n",
       "}}\n",
       "\n",
       "                        })                };                });            </script>        </div>"
      ]
     },
     "metadata": {},
     "output_type": "display_data"
    }
   ],
   "source": [
    "auxiliary = px.scatter_3d(train_batch_[train_batch_.auxiliary], x = \"x\", y = \"y\", z = \"z\", size = \"charge\")\n",
    "no_auxiliary = px.scatter_3d(train_batch_[~train_batch_.auxiliary], x = \"x\", y = \"y\", z = \"z\", size = \"charge\", color_discrete_sequence = [\"aquamarine\"])\n",
    "\n",
    "true_direccion = px.line_3d(direccion, x = \"x\", y = \"y\", z = \"z\", color_discrete_sequence = [\"white\"])\n",
    "\n",
    "pca_direccion = px.line_3d(vector_pca_df, x = \"x_pca\", y = \"y_pca\", z = \"z_pca\", color_discrete_sequence = [\"steelblue\"])\n",
    "\n",
    "fig = go.Figure(data = auxiliary.data + no_auxiliary.data + true_direccion.data + pca_direccion.data)\n",
    "fig.update_layout(template='plotly_dark')\n",
    "\n",
    "fig.show()"
   ]
  },
  {
   "cell_type": "markdown",
   "id": "864138f4",
   "metadata": {
    "papermill": {
     "duration": 0.019622,
     "end_time": "2023-06-04T06:29:22.614454",
     "exception": false,
     "start_time": "2023-06-04T06:29:22.594832",
     "status": "completed"
    },
    "tags": []
   },
   "source": [
    "# <p style=\"font-family:JetBrains Mono; font-weight:bold; letter-spacing: 2px; color:#006600; font-size:140%; text-align:left;padding: 0px; border-bottom: 3px solid #003300\">Non Auxiliar events </p>"
   ]
  },
  {
   "cell_type": "code",
   "execution_count": 21,
   "id": "75a221fe",
   "metadata": {
    "execution": {
     "iopub.execute_input": "2023-06-04T06:29:22.659688Z",
     "iopub.status.busy": "2023-06-04T06:29:22.658835Z",
     "iopub.status.idle": "2023-06-04T06:29:22.673965Z",
     "shell.execute_reply": "2023-06-04T06:29:22.672858Z"
    },
    "papermill": {
     "duration": 0.039843,
     "end_time": "2023-06-04T06:29:22.677048",
     "exception": false,
     "start_time": "2023-06-04T06:29:22.637205",
     "status": "completed"
    },
    "tags": []
   },
   "outputs": [],
   "source": [
    "example = train_meta_[train_meta_.auxiliary_ratio < .5]\n",
    "id_example = example[\"event_id\"][:1].values[0]\n"
   ]
  },
  {
   "cell_type": "code",
   "execution_count": 22,
   "id": "c53b3568",
   "metadata": {
    "execution": {
     "iopub.execute_input": "2023-06-04T06:29:22.721063Z",
     "iopub.status.busy": "2023-06-04T06:29:22.720322Z",
     "iopub.status.idle": "2023-06-04T06:29:28.930600Z",
     "shell.execute_reply": "2023-06-04T06:29:28.927578Z"
    },
    "papermill": {
     "duration": 6.239141,
     "end_time": "2023-06-04T06:29:28.936897",
     "exception": false,
     "start_time": "2023-06-04T06:29:22.697756",
     "status": "completed"
    },
    "tags": []
   },
   "outputs": [],
   "source": [
    "train_batch = pq.read_pandas(\"/kaggle/input/icecube-neutrinos-in-deep-ice/train/batch_125.parquet\").to_pandas().reset_index()"
   ]
  },
  {
   "cell_type": "code",
   "execution_count": 23,
   "id": "283e4b25",
   "metadata": {
    "execution": {
     "iopub.execute_input": "2023-06-04T06:29:29.029953Z",
     "iopub.status.busy": "2023-06-04T06:29:29.029454Z",
     "iopub.status.idle": "2023-06-04T06:29:30.200753Z",
     "shell.execute_reply": "2023-06-04T06:29:30.196420Z"
    },
    "papermill": {
     "duration": 1.231213,
     "end_time": "2023-06-04T06:29:30.205588",
     "exception": false,
     "start_time": "2023-06-04T06:29:28.974375",
     "status": "completed"
    },
    "tags": []
   },
   "outputs": [],
   "source": [
    "train_batch_1 = train_batch[train_batch.event_id == id_example]"
   ]
  },
  {
   "cell_type": "code",
   "execution_count": 24,
   "id": "e1c587e7",
   "metadata": {
    "execution": {
     "iopub.execute_input": "2023-06-04T06:29:30.320204Z",
     "iopub.status.busy": "2023-06-04T06:29:30.319389Z",
     "iopub.status.idle": "2023-06-04T06:29:30.354673Z",
     "shell.execute_reply": "2023-06-04T06:29:30.350980Z"
    },
    "papermill": {
     "duration": 0.105402,
     "end_time": "2023-06-04T06:29:30.364749",
     "exception": false,
     "start_time": "2023-06-04T06:29:30.259347",
     "status": "completed"
    },
    "tags": []
   },
   "outputs": [],
   "source": [
    "train_batch_1 = train_batch_1.merge(sensor_geometry, on = \"sensor_id\", how = \"left\")"
   ]
  },
  {
   "cell_type": "code",
   "execution_count": 25,
   "id": "617902e7",
   "metadata": {
    "execution": {
     "iopub.execute_input": "2023-06-04T06:29:30.455379Z",
     "iopub.status.busy": "2023-06-04T06:29:30.453419Z",
     "iopub.status.idle": "2023-06-04T06:29:30.501449Z",
     "shell.execute_reply": "2023-06-04T06:29:30.497367Z"
    },
    "papermill": {
     "duration": 0.102569,
     "end_time": "2023-06-04T06:29:30.510364",
     "exception": false,
     "start_time": "2023-06-04T06:29:30.407795",
     "status": "completed"
    },
    "tags": []
   },
   "outputs": [
    {
     "data": {
      "text/plain": [
       "count    1.070000e+02\n",
       "mean    -1.580460e-14\n",
       "std      1.545941e+02\n",
       "min     -5.560850e+02\n",
       "25%      3.063495e+01\n",
       "50%      3.132495e+01\n",
       "75%      4.676495e+01\n",
       "max      4.126650e+02\n",
       "Name: x, dtype: float64"
      ]
     },
     "execution_count": 25,
     "metadata": {},
     "output_type": "execute_result"
    }
   ],
   "source": [
    "train_batch_1.x -= train_batch_1.x.mean()\n",
    "train_batch_1.y -= train_batch_1.y.mean()\n",
    "train_batch_1.z -= train_batch_1.z.mean()\n",
    "\n",
    "train_batch_1.x.describe()"
   ]
  },
  {
   "cell_type": "code",
   "execution_count": 26,
   "id": "0edb9ca5",
   "metadata": {
    "execution": {
     "iopub.execute_input": "2023-06-04T06:29:30.610084Z",
     "iopub.status.busy": "2023-06-04T06:29:30.608580Z",
     "iopub.status.idle": "2023-06-04T06:29:30.661260Z",
     "shell.execute_reply": "2023-06-04T06:29:30.657468Z"
    },
    "papermill": {
     "duration": 0.113424,
     "end_time": "2023-06-04T06:29:30.671248",
     "exception": false,
     "start_time": "2023-06-04T06:29:30.557824",
     "status": "completed"
    },
    "tags": []
   },
   "outputs": [],
   "source": [
    "event_pulses = train_batch_1.merge(example, on = \"event_id\", how = \"left\")"
   ]
  },
  {
   "cell_type": "code",
   "execution_count": 27,
   "id": "8d8c39a1",
   "metadata": {
    "execution": {
     "iopub.execute_input": "2023-06-04T06:29:30.769824Z",
     "iopub.status.busy": "2023-06-04T06:29:30.769007Z",
     "iopub.status.idle": "2023-06-04T06:29:30.808091Z",
     "shell.execute_reply": "2023-06-04T06:29:30.805826Z"
    },
    "papermill": {
     "duration": 0.087255,
     "end_time": "2023-06-04T06:29:30.812583",
     "exception": false,
     "start_time": "2023-06-04T06:29:30.725328",
     "status": "completed"
    },
    "tags": []
   },
   "outputs": [
    {
     "data": {
      "text/html": [
       "<div>\n",
       "<style scoped>\n",
       "    .dataframe tbody tr th:only-of-type {\n",
       "        vertical-align: middle;\n",
       "    }\n",
       "\n",
       "    .dataframe tbody tr th {\n",
       "        vertical-align: top;\n",
       "    }\n",
       "\n",
       "    .dataframe thead th {\n",
       "        text-align: right;\n",
       "    }\n",
       "</style>\n",
       "<table border=\"1\" class=\"dataframe\">\n",
       "  <thead>\n",
       "    <tr style=\"text-align: right;\">\n",
       "      <th></th>\n",
       "      <th>x</th>\n",
       "      <th>y</th>\n",
       "      <th>z</th>\n",
       "    </tr>\n",
       "  </thead>\n",
       "  <tbody>\n",
       "    <tr>\n",
       "      <th>0</th>\n",
       "      <td>-437.506842</td>\n",
       "      <td>241.016767</td>\n",
       "      <td>-437.943849</td>\n",
       "    </tr>\n",
       "    <tr>\n",
       "      <th>1</th>\n",
       "      <td>437.506842</td>\n",
       "      <td>-241.016767</td>\n",
       "      <td>437.943849</td>\n",
       "    </tr>\n",
       "  </tbody>\n",
       "</table>\n",
       "</div>"
      ],
      "text/plain": [
       "            x           y           z\n",
       "0 -437.506842  241.016767 -437.943849\n",
       "1  437.506842 -241.016767  437.943849"
      ]
     },
     "execution_count": 27,
     "metadata": {},
     "output_type": "execute_result"
    }
   ],
   "source": [
    "zenith_true = event_pulses.zenith[0]\n",
    "azimuth_true = event_pulses.azimuth[0]\n",
    "\n",
    "vector = np.array([\n",
    "    np.sin(zenith_true) * np.cos(azimuth_true),\n",
    "    np.sin(zenith_true) * np.sin(azimuth_true),\n",
    "    np.cos(azimuth_true)\n",
    "])\n",
    "\n",
    "vector_escalar = np.array([-500, 500])\n",
    "\n",
    "x = vector[0] * vector_escalar \n",
    "y = vector[1] * vector_escalar \n",
    "z = vector[2] * vector_escalar \n",
    "\n",
    "direccion = pd.DataFrame({\"x\" : x, \"y\" : y, \"z\": z})\n",
    "direccion.head()"
   ]
  },
  {
   "cell_type": "code",
   "execution_count": 28,
   "id": "d1c31e43",
   "metadata": {
    "execution": {
     "iopub.execute_input": "2023-06-04T06:29:30.905826Z",
     "iopub.status.busy": "2023-06-04T06:29:30.904278Z",
     "iopub.status.idle": "2023-06-04T06:29:30.934409Z",
     "shell.execute_reply": "2023-06-04T06:29:30.932504Z"
    },
    "papermill": {
     "duration": 0.084268,
     "end_time": "2023-06-04T06:29:30.942030",
     "exception": false,
     "start_time": "2023-06-04T06:29:30.857762",
     "status": "completed"
    },
    "tags": []
   },
   "outputs": [],
   "source": [
    "pca = PCA(n_components = 1).fit(event_pulses[~event_pulses[\"auxiliary\"]][[\"x\", \"y\", \"z\"]])"
   ]
  },
  {
   "cell_type": "code",
   "execution_count": 29,
   "id": "f5abab24",
   "metadata": {
    "execution": {
     "iopub.execute_input": "2023-06-04T06:29:31.044718Z",
     "iopub.status.busy": "2023-06-04T06:29:31.042862Z",
     "iopub.status.idle": "2023-06-04T06:29:31.063879Z",
     "shell.execute_reply": "2023-06-04T06:29:31.060163Z"
    },
    "papermill": {
     "duration": 0.086749,
     "end_time": "2023-06-04T06:29:31.072258",
     "exception": false,
     "start_time": "2023-06-04T06:29:30.985509",
     "status": "completed"
    },
    "tags": []
   },
   "outputs": [],
   "source": [
    "pca_vector = pca.components_[0]\n",
    "\n",
    "# Calculating the first principal component vector\n",
    "vector_pca = pca.components_[0]\n",
    "vector_base = np.array([-500, 500])\n",
    "x_pca = vector_base*vector_pca[0]\n",
    "y_pca = vector_base*vector_pca[1]\n",
    "z_pca = vector_base*vector_pca[2]\n",
    "vector_pca_df = pd.DataFrame({'x_pca': x_pca, 'y_pca': y_pca, 'z_pca': z_pca})"
   ]
  },
  {
   "cell_type": "code",
   "execution_count": 30,
   "id": "01a09420",
   "metadata": {
    "execution": {
     "iopub.execute_input": "2023-06-04T06:29:31.174238Z",
     "iopub.status.busy": "2023-06-04T06:29:31.172477Z",
     "iopub.status.idle": "2023-06-04T06:29:31.195715Z",
     "shell.execute_reply": "2023-06-04T06:29:31.190677Z"
    },
    "papermill": {
     "duration": 0.081645,
     "end_time": "2023-06-04T06:29:31.203987",
     "exception": false,
     "start_time": "2023-06-04T06:29:31.122342",
     "status": "completed"
    },
    "tags": []
   },
   "outputs": [
    {
     "name": "stdout",
     "output_type": "stream",
     "text": [
      "1 component: 98.91% of initial variance\n"
     ]
    }
   ],
   "source": [
    "for i, component in enumerate(pca.components_):\n",
    "    print(\"{} component: {}% of initial variance\".format(i + 1, \n",
    "          round(100 * pca.explained_variance_ratio_[i], 2)))"
   ]
  },
  {
   "cell_type": "code",
   "execution_count": 31,
   "id": "2044d46f",
   "metadata": {
    "execution": {
     "iopub.execute_input": "2023-06-04T06:29:31.304714Z",
     "iopub.status.busy": "2023-06-04T06:29:31.304112Z",
     "iopub.status.idle": "2023-06-04T06:29:31.323110Z",
     "shell.execute_reply": "2023-06-04T06:29:31.319752Z"
    },
    "papermill": {
     "duration": 0.080436,
     "end_time": "2023-06-04T06:29:31.330131",
     "exception": false,
     "start_time": "2023-06-04T06:29:31.249695",
     "status": "completed"
    },
    "tags": []
   },
   "outputs": [
    {
     "name": "stdout",
     "output_type": "stream",
     "text": [
      "The value of error: 1.06\n"
     ]
    }
   ],
   "source": [
    "zenith = np.arccos(vector_pca[2])\n",
    "azimuth = np.arctan2(vector_pca[1], vector_pca[0])\n",
    "if azimuth < 0:\n",
    "    azimuth = 2*np.pi + azimuth\n",
    "\n",
    "event_error = angular_dist_score(azimuth_true, zenith_true, azimuth, zenith)\n",
    "print(f'The value of error: {event_error:.2f}')"
   ]
  },
  {
   "cell_type": "code",
   "execution_count": 32,
   "id": "c5e8b492",
   "metadata": {
    "execution": {
     "iopub.execute_input": "2023-06-04T06:29:31.433579Z",
     "iopub.status.busy": "2023-06-04T06:29:31.432420Z",
     "iopub.status.idle": "2023-06-04T06:29:32.144774Z",
     "shell.execute_reply": "2023-06-04T06:29:32.139376Z"
    },
    "papermill": {
     "duration": 0.774809,
     "end_time": "2023-06-04T06:29:32.154870",
     "exception": false,
     "start_time": "2023-06-04T06:29:31.380061",
     "status": "completed"
    },
    "tags": []
   },
   "outputs": [
    {
     "data": {
      "text/html": [
       "<div>                            <div id=\"223f7659-271f-4964-a4b8-34cf334f0ff8\" class=\"plotly-graph-div\" style=\"height:525px; width:100%;\"></div>            <script type=\"text/javascript\">                require([\"plotly\"], function(Plotly) {                    window.PLOTLYENV=window.PLOTLYENV || {};                                    if (document.getElementById(\"223f7659-271f-4964-a4b8-34cf334f0ff8\")) {                    Plotly.newPlot(                        \"223f7659-271f-4964-a4b8-34cf334f0ff8\",                        [{\"hovertemplate\":\"x=%{x}<br>y=%{y}<br>z=%{z}<extra></extra>\",\"legendgroup\":\"\",\"marker\":{\"color\":\"blue\",\"opacity\":0.5,\"size\":[7.250000238418579,11.25,8.24999988079071,8.24999988079071,10.750000476837158,3.75,9.25000011920929,3.75,13.75,8.75,6.25,8.75,8.75,10.750000476837158,9.25000011920929,2.7500000596046448,8.24999988079071,4.2500001192092896,7.250000238418579,8.75,8.24999988079071,9.750000238418579,3.2499998807907104,17.74999976158142,11.25,13.75,10.249999761581421,9.25000011920929,16.25,11.749999523162842,11.749999523162842,6.25,8.24999988079071,10.249999761581421,3.75,12.250000238418579,11.25,7.250000238418579,12.749999761581421,9.750000238418579,7.250000238418579,14.249999523162842,13.75,7.749999761581421,7.749999761581421,15.249999761581421,9.25000011920929,9.25000011920929,5.249999761581421,9.750000238418579,13.250000476837158,8.75,6.7500001192092896,7.250000238418579,2.2499999403953552,10.750000476837158,4.2500001192092896,7.749999761581421,4.749999940395355,8.75,15.249999761581421,10.750000476837158,9.750000238418579,10.750000476837158,13.75,5.249999761581421,11.25,11.749999523162842,12.749999761581421,2.7500000596046448,10.249999761581421,7.749999761581421,17.74999976158142,9.750000238418579,12.250000238418579,13.75,11.749999523162842,6.7500001192092896,6.25,9.750000238418579,9.25000011920929,5.249999761581421,11.25,2.2499999403953552,12.250000238418579,10.249999761581421,10.750000476837158,12.749999761581421,6.25,15.249999761581421,2.2499999403953552,35.75000047683716,9.25000011920929,11.25,9.25000011920929,10.750000476837158,15.249999761581421,2.7500000596046448,3.75,10.249999761581421,11.749999523162842,11.749999523162842,17.25000023841858,15.750000476837158,9.25000011920929,8.24999988079071,13.75],\"symbol\":\"circle\"},\"mode\":\"markers\",\"name\":\"\",\"scene\":\"scene\",\"showlegend\":false,\"x\":[-419.84504672897197,-443.23504672897195,-353.685046728972,-91.33504672897197,412.664953271028,-38.73504672897198,-62.66504672897197,336.724953271028,93.60495327102802,-353.685046728972,84.44495327102803,-38.73504672897198,30.634953271028024,-4.765046728971981,-109.44504672897199,46.76495327102802,163.14495327102804,46.76495327102802,-206.975046728972,-398.65504672897197,-117.41504672897199,30.634953271028024,-285.47504672897196,-556.085046728972,-556.085046728972,-353.685046728972,31.324953271028022,93.60495327102802,-353.685046728972,60.87495327102803,-31.675046728971978,412.664953271028,30.634953271028024,-62.66504672897197],\"y\":[-485.8985046728973,58.351495327102796,292.60149532710284,-31.4185046728972,206.10149532710278,-96.0685046728972,447.97149532710284,-23.26850467289721,246.8414953271028,292.60149532710284,-76.68850467289721,-96.0685046728972,4.261495327102793,-310.04850467289725,328.1514953271028,-174.58850467289722,-173.8885046728972,-174.58850467289722,-232.3385046728972,175.6214953271028,0.30149532710279203,4.261495327102793,-135.8485046728972,369.4214953271028,369.4214953271028,292.60149532710284,160.7714953271028,246.8414953271028,292.60149532710284,467.5314953271028,238.16149532710278,206.10149532710278,4.261495327102793,447.97149532710284],\"z\":[-319.1783177570094,163.98168224299062,-569.1583177570094,-457.4083177570094,-219.0383177570094,-151.3483177570094,-208.6683177570094,-534.6183177570094,318.9916822429906,-569.1583177570094,57.2816822429906,120.9916822429906,-4.738317757009412,-162.1883177570094,-477.8783177570094,-79.9683177570094,-44.44831775700939,-148.0583177570094,-570.3883177570094,-604.4983177570094,-314.2283177570094,-106.8583177570094,-652.9583177570094,-6.038317757009395,-6.038317757009395,-569.1583177570094,-466.5583177570094,318.9916822429906,-7.228317757009393,-164.9583177570094,-91.1983177570094,-219.0383177570094,148.4516822429906,-208.6683177570094],\"type\":\"scatter3d\"},{\"hovertemplate\":\"x=%{x}<br>y=%{y}<br>z=%{z}<extra></extra>\",\"legendgroup\":\"\",\"marker\":{\"color\":\"aquamarine\",\"opacity\":0.5,\"size\":[7.250000238418579,11.25,8.24999988079071,8.24999988079071,10.750000476837158,3.75,9.25000011920929,3.75,13.75,8.75,6.25,8.75,8.75,10.750000476837158,9.25000011920929,2.7500000596046448,8.24999988079071,4.2500001192092896,7.250000238418579,8.75,8.24999988079071,9.750000238418579,3.2499998807907104,17.74999976158142,11.25,13.75,10.249999761581421,9.25000011920929,16.25,11.749999523162842,11.749999523162842,6.25,8.24999988079071,10.249999761581421,3.75,12.250000238418579,11.25,7.250000238418579,12.749999761581421,9.750000238418579,7.250000238418579,14.249999523162842,13.75,7.749999761581421,7.749999761581421,15.249999761581421,9.25000011920929,9.25000011920929,5.249999761581421,9.750000238418579,13.250000476837158,8.75,6.7500001192092896,7.250000238418579,2.2499999403953552,10.750000476837158,4.2500001192092896,7.749999761581421,4.749999940395355,8.75,15.249999761581421,10.750000476837158,9.750000238418579,10.750000476837158,13.75,5.249999761581421,11.25,11.749999523162842,12.749999761581421,2.7500000596046448,10.249999761581421,7.749999761581421,17.74999976158142,9.750000238418579,12.250000238418579,13.75,11.749999523162842,6.7500001192092896,6.25,9.750000238418579,9.25000011920929,5.249999761581421,11.25,2.2499999403953552,12.250000238418579,10.249999761581421,10.750000476837158,12.749999761581421,6.25,15.249999761581421,2.2499999403953552,35.75000047683716,9.25000011920929,11.25,9.25000011920929,10.750000476837158,15.249999761581421,2.7500000596046448,3.75,10.249999761581421,11.749999523162842,11.749999523162842,17.25000023841858,15.750000476837158,9.25000011920929,8.24999988079071,13.75],\"symbol\":\"circle\"},\"mode\":\"markers\",\"name\":\"\",\"scene\":\"scene\",\"showlegend\":false,\"x\":[-31.675046728971978,-31.675046728971978,31.324953271028022,31.324953271028022,31.324953271028022,31.324953271028022,31.324953271028022,31.324953271028022,31.324953271028022,31.324953271028022,-31.675046728971978,31.324953271028022,31.324953271028022,31.324953271028022,31.324953271028022,-31.675046728971978,31.324953271028022,31.324953271028022,31.324953271028022,31.324953271028022,31.324953271028022,-31.675046728971978,30.634953271028024,30.634953271028024,30.634953271028024,30.634953271028024,30.634953271028024,30.634953271028024,30.634953271028024,30.634953271028024,30.634953271028024,31.324953271028022,31.324953271028022,30.634953271028024,30.634953271028024,-31.675046728971978,30.634953271028024,30.634953271028024,31.324953271028022,30.634953271028024,30.634953271028024,30.634953271028024,30.634953271028024,46.76495327102802,46.76495327102802,30.634953271028024,30.634953271028024,46.76495327102802,46.76495327102802,46.76495327102802,46.76495327102802,46.76495327102802,46.76495327102802,46.76495327102802,118.47495327102803,30.634953271028024,84.44495327102803,118.47495327102803,74.07495327102802,74.07495327102802,74.07495327102802,74.07495327102802,74.07495327102802,118.47495327102803,74.07495327102802,74.07495327102802,74.07495327102802,74.07495327102802,74.07495327102802,74.07495327102802,118.47495327102803,46.76495327102802,74.07495327102802],\"y\":[238.16149532710278,238.16149532710278,160.7714953271028,160.7714953271028,160.7714953271028,160.7714953271028,160.7714953271028,160.7714953271028,160.7714953271028,160.7714953271028,238.16149532710278,160.7714953271028,160.7714953271028,160.7714953271028,160.7714953271028,238.16149532710278,160.7714953271028,160.7714953271028,160.7714953271028,160.7714953271028,160.7714953271028,238.16149532710278,4.261495327102793,4.261495327102793,4.261495327102793,4.261495327102793,4.261495327102793,4.261495327102793,4.261495327102793,4.261495327102793,4.261495327102793,160.7714953271028,160.7714953271028,4.261495327102793,4.261495327102793,238.16149532710278,4.261495327102793,4.261495327102793,160.7714953271028,4.261495327102793,4.261495327102793,4.261495327102793,4.261495327102793,-174.58850467289722,-174.58850467289722,4.261495327102793,4.261495327102793,-174.58850467289722,-174.58850467289722,-174.58850467289722,-174.58850467289722,-174.58850467289722,-174.58850467289722,-174.58850467289722,-290.55850467289724,4.261495327102793,-76.68850467289721,-290.55850467289724,-407.2385046728972,-407.2385046728972,-407.2385046728972,-407.2385046728972,-407.2385046728972,-290.55850467289724,-407.2385046728972,-407.2385046728972,-407.2385046728972,-407.2385046728972,-407.2385046728972,-407.2385046728972,-290.55850467289724,-174.58850467289722,-407.2385046728972],\"z\":[317.30168224299064,317.30168224299064,282.3516822429906,265.3316822429906,265.3316822429906,299.3716822429906,248.3116822429906,231.29168224299062,248.3116822429906,316.39168224299056,283.25168224299057,248.3116822429906,248.3116822429906,248.3116822429906,282.3516822429906,300.28168224299066,214.27168224299058,248.3116822429906,197.2516822429906,248.3116822429906,248.3116822429906,249.21168224299058,148.4516822429906,131.4316822429906,165.47168224299062,131.4316822429906,148.4516822429906,114.41168224299062,165.47168224299062,131.4316822429906,131.4316822429906,299.3716822429906,231.29168224299062,131.4316822429906,165.47168224299062,283.25168224299057,131.4316822429906,131.4316822429906,231.29168224299062,114.41168224299062,131.4316822429906,182.4916822429906,131.4316822429906,5.131682242990593,-11.88831775700939,63.3416822429906,63.3416822429906,5.131682242990593,-11.88831775700939,-28.9083177570094,5.131682242990593,5.131682242990593,-11.88831775700939,5.131682242990593,-78.4683177570094,80.36168224299061,91.32168224299059,-112.5083177570094,-194.5983177570094,-194.5983177570094,-194.5983177570094,-177.5783177570094,-194.5983177570094,-129.5283177570094,-160.5583177570094,-177.5783177570094,-194.5983177570094,-143.5383177570094,-228.63831775700942,-160.5583177570094,-129.5283177570094,-28.9083177570094,-194.5983177570094],\"type\":\"scatter3d\"},{\"hovertemplate\":\"x=%{x}<br>y=%{y}<br>z=%{z}<extra></extra>\",\"legendgroup\":\"\",\"line\":{\"color\":\"white\",\"dash\":\"solid\"},\"marker\":{\"symbol\":\"circle\"},\"mode\":\"lines\",\"name\":\"\",\"scene\":\"scene\",\"showlegend\":false,\"x\":[-437.5068420618025,437.5068420618025],\"y\":[241.016767189709,-241.016767189709],\"z\":[-437.9438487226791,437.9438487226791],\"type\":\"scatter3d\"},{\"hovertemplate\":\"x_pca=%{x}<br>y_pca=%{y}<br>z_pca=%{z}<extra></extra>\",\"legendgroup\":\"\",\"line\":{\"color\":\"steelblue\",\"dash\":\"solid\"},\"marker\":{\"symbol\":\"circle\"},\"mode\":\"lines\",\"name\":\"\",\"scene\":\"scene\",\"showlegend\":false,\"x\":[-47.13539071214388,47.13539071214388],\"y\":[393.48890735176906,-393.48890735176906],\"z\":[304.8683892002,-304.8683892002],\"type\":\"scatter3d\"}],                        {\"template\":{\"data\":{\"barpolar\":[{\"marker\":{\"line\":{\"color\":\"rgb(17,17,17)\",\"width\":0.5},\"pattern\":{\"fillmode\":\"overlay\",\"size\":10,\"solidity\":0.2}},\"type\":\"barpolar\"}],\"bar\":[{\"error_x\":{\"color\":\"#f2f5fa\"},\"error_y\":{\"color\":\"#f2f5fa\"},\"marker\":{\"line\":{\"color\":\"rgb(17,17,17)\",\"width\":0.5},\"pattern\":{\"fillmode\":\"overlay\",\"size\":10,\"solidity\":0.2}},\"type\":\"bar\"}],\"carpet\":[{\"aaxis\":{\"endlinecolor\":\"#A2B1C6\",\"gridcolor\":\"#506784\",\"linecolor\":\"#506784\",\"minorgridcolor\":\"#506784\",\"startlinecolor\":\"#A2B1C6\"},\"baxis\":{\"endlinecolor\":\"#A2B1C6\",\"gridcolor\":\"#506784\",\"linecolor\":\"#506784\",\"minorgridcolor\":\"#506784\",\"startlinecolor\":\"#A2B1C6\"},\"type\":\"carpet\"}],\"choropleth\":[{\"colorbar\":{\"outlinewidth\":0,\"ticks\":\"\"},\"type\":\"choropleth\"}],\"contourcarpet\":[{\"colorbar\":{\"outlinewidth\":0,\"ticks\":\"\"},\"type\":\"contourcarpet\"}],\"contour\":[{\"colorbar\":{\"outlinewidth\":0,\"ticks\":\"\"},\"colorscale\":[[0.0,\"#0d0887\"],[0.1111111111111111,\"#46039f\"],[0.2222222222222222,\"#7201a8\"],[0.3333333333333333,\"#9c179e\"],[0.4444444444444444,\"#bd3786\"],[0.5555555555555556,\"#d8576b\"],[0.6666666666666666,\"#ed7953\"],[0.7777777777777778,\"#fb9f3a\"],[0.8888888888888888,\"#fdca26\"],[1.0,\"#f0f921\"]],\"type\":\"contour\"}],\"heatmapgl\":[{\"colorbar\":{\"outlinewidth\":0,\"ticks\":\"\"},\"colorscale\":[[0.0,\"#0d0887\"],[0.1111111111111111,\"#46039f\"],[0.2222222222222222,\"#7201a8\"],[0.3333333333333333,\"#9c179e\"],[0.4444444444444444,\"#bd3786\"],[0.5555555555555556,\"#d8576b\"],[0.6666666666666666,\"#ed7953\"],[0.7777777777777778,\"#fb9f3a\"],[0.8888888888888888,\"#fdca26\"],[1.0,\"#f0f921\"]],\"type\":\"heatmapgl\"}],\"heatmap\":[{\"colorbar\":{\"outlinewidth\":0,\"ticks\":\"\"},\"colorscale\":[[0.0,\"#0d0887\"],[0.1111111111111111,\"#46039f\"],[0.2222222222222222,\"#7201a8\"],[0.3333333333333333,\"#9c179e\"],[0.4444444444444444,\"#bd3786\"],[0.5555555555555556,\"#d8576b\"],[0.6666666666666666,\"#ed7953\"],[0.7777777777777778,\"#fb9f3a\"],[0.8888888888888888,\"#fdca26\"],[1.0,\"#f0f921\"]],\"type\":\"heatmap\"}],\"histogram2dcontour\":[{\"colorbar\":{\"outlinewidth\":0,\"ticks\":\"\"},\"colorscale\":[[0.0,\"#0d0887\"],[0.1111111111111111,\"#46039f\"],[0.2222222222222222,\"#7201a8\"],[0.3333333333333333,\"#9c179e\"],[0.4444444444444444,\"#bd3786\"],[0.5555555555555556,\"#d8576b\"],[0.6666666666666666,\"#ed7953\"],[0.7777777777777778,\"#fb9f3a\"],[0.8888888888888888,\"#fdca26\"],[1.0,\"#f0f921\"]],\"type\":\"histogram2dcontour\"}],\"histogram2d\":[{\"colorbar\":{\"outlinewidth\":0,\"ticks\":\"\"},\"colorscale\":[[0.0,\"#0d0887\"],[0.1111111111111111,\"#46039f\"],[0.2222222222222222,\"#7201a8\"],[0.3333333333333333,\"#9c179e\"],[0.4444444444444444,\"#bd3786\"],[0.5555555555555556,\"#d8576b\"],[0.6666666666666666,\"#ed7953\"],[0.7777777777777778,\"#fb9f3a\"],[0.8888888888888888,\"#fdca26\"],[1.0,\"#f0f921\"]],\"type\":\"histogram2d\"}],\"histogram\":[{\"marker\":{\"pattern\":{\"fillmode\":\"overlay\",\"size\":10,\"solidity\":0.2}},\"type\":\"histogram\"}],\"mesh3d\":[{\"colorbar\":{\"outlinewidth\":0,\"ticks\":\"\"},\"type\":\"mesh3d\"}],\"parcoords\":[{\"line\":{\"colorbar\":{\"outlinewidth\":0,\"ticks\":\"\"}},\"type\":\"parcoords\"}],\"pie\":[{\"automargin\":true,\"type\":\"pie\"}],\"scatter3d\":[{\"line\":{\"colorbar\":{\"outlinewidth\":0,\"ticks\":\"\"}},\"marker\":{\"colorbar\":{\"outlinewidth\":0,\"ticks\":\"\"}},\"type\":\"scatter3d\"}],\"scattercarpet\":[{\"marker\":{\"colorbar\":{\"outlinewidth\":0,\"ticks\":\"\"}},\"type\":\"scattercarpet\"}],\"scattergeo\":[{\"marker\":{\"colorbar\":{\"outlinewidth\":0,\"ticks\":\"\"}},\"type\":\"scattergeo\"}],\"scattergl\":[{\"marker\":{\"line\":{\"color\":\"#283442\"}},\"type\":\"scattergl\"}],\"scattermapbox\":[{\"marker\":{\"colorbar\":{\"outlinewidth\":0,\"ticks\":\"\"}},\"type\":\"scattermapbox\"}],\"scatterpolargl\":[{\"marker\":{\"colorbar\":{\"outlinewidth\":0,\"ticks\":\"\"}},\"type\":\"scatterpolargl\"}],\"scatterpolar\":[{\"marker\":{\"colorbar\":{\"outlinewidth\":0,\"ticks\":\"\"}},\"type\":\"scatterpolar\"}],\"scatter\":[{\"marker\":{\"line\":{\"color\":\"#283442\"}},\"type\":\"scatter\"}],\"scatterternary\":[{\"marker\":{\"colorbar\":{\"outlinewidth\":0,\"ticks\":\"\"}},\"type\":\"scatterternary\"}],\"surface\":[{\"colorbar\":{\"outlinewidth\":0,\"ticks\":\"\"},\"colorscale\":[[0.0,\"#0d0887\"],[0.1111111111111111,\"#46039f\"],[0.2222222222222222,\"#7201a8\"],[0.3333333333333333,\"#9c179e\"],[0.4444444444444444,\"#bd3786\"],[0.5555555555555556,\"#d8576b\"],[0.6666666666666666,\"#ed7953\"],[0.7777777777777778,\"#fb9f3a\"],[0.8888888888888888,\"#fdca26\"],[1.0,\"#f0f921\"]],\"type\":\"surface\"}],\"table\":[{\"cells\":{\"fill\":{\"color\":\"#506784\"},\"line\":{\"color\":\"rgb(17,17,17)\"}},\"header\":{\"fill\":{\"color\":\"#2a3f5f\"},\"line\":{\"color\":\"rgb(17,17,17)\"}},\"type\":\"table\"}]},\"layout\":{\"annotationdefaults\":{\"arrowcolor\":\"#f2f5fa\",\"arrowhead\":0,\"arrowwidth\":1},\"autotypenumbers\":\"strict\",\"coloraxis\":{\"colorbar\":{\"outlinewidth\":0,\"ticks\":\"\"}},\"colorscale\":{\"diverging\":[[0,\"#8e0152\"],[0.1,\"#c51b7d\"],[0.2,\"#de77ae\"],[0.3,\"#f1b6da\"],[0.4,\"#fde0ef\"],[0.5,\"#f7f7f7\"],[0.6,\"#e6f5d0\"],[0.7,\"#b8e186\"],[0.8,\"#7fbc41\"],[0.9,\"#4d9221\"],[1,\"#276419\"]],\"sequential\":[[0.0,\"#0d0887\"],[0.1111111111111111,\"#46039f\"],[0.2222222222222222,\"#7201a8\"],[0.3333333333333333,\"#9c179e\"],[0.4444444444444444,\"#bd3786\"],[0.5555555555555556,\"#d8576b\"],[0.6666666666666666,\"#ed7953\"],[0.7777777777777778,\"#fb9f3a\"],[0.8888888888888888,\"#fdca26\"],[1.0,\"#f0f921\"]],\"sequentialminus\":[[0.0,\"#0d0887\"],[0.1111111111111111,\"#46039f\"],[0.2222222222222222,\"#7201a8\"],[0.3333333333333333,\"#9c179e\"],[0.4444444444444444,\"#bd3786\"],[0.5555555555555556,\"#d8576b\"],[0.6666666666666666,\"#ed7953\"],[0.7777777777777778,\"#fb9f3a\"],[0.8888888888888888,\"#fdca26\"],[1.0,\"#f0f921\"]]},\"colorway\":[\"#636efa\",\"#EF553B\",\"#00cc96\",\"#ab63fa\",\"#FFA15A\",\"#19d3f3\",\"#FF6692\",\"#B6E880\",\"#FF97FF\",\"#FECB52\"],\"font\":{\"color\":\"#f2f5fa\"},\"geo\":{\"bgcolor\":\"rgb(17,17,17)\",\"lakecolor\":\"rgb(17,17,17)\",\"landcolor\":\"rgb(17,17,17)\",\"showlakes\":true,\"showland\":true,\"subunitcolor\":\"#506784\"},\"hoverlabel\":{\"align\":\"left\"},\"hovermode\":\"closest\",\"mapbox\":{\"style\":\"dark\"},\"paper_bgcolor\":\"rgb(17,17,17)\",\"plot_bgcolor\":\"rgb(17,17,17)\",\"polar\":{\"angularaxis\":{\"gridcolor\":\"#506784\",\"linecolor\":\"#506784\",\"ticks\":\"\"},\"bgcolor\":\"rgb(17,17,17)\",\"radialaxis\":{\"gridcolor\":\"#506784\",\"linecolor\":\"#506784\",\"ticks\":\"\"}},\"scene\":{\"xaxis\":{\"backgroundcolor\":\"rgb(17,17,17)\",\"gridcolor\":\"#506784\",\"gridwidth\":2,\"linecolor\":\"#506784\",\"showbackground\":true,\"ticks\":\"\",\"zerolinecolor\":\"#C8D4E3\"},\"yaxis\":{\"backgroundcolor\":\"rgb(17,17,17)\",\"gridcolor\":\"#506784\",\"gridwidth\":2,\"linecolor\":\"#506784\",\"showbackground\":true,\"ticks\":\"\",\"zerolinecolor\":\"#C8D4E3\"},\"zaxis\":{\"backgroundcolor\":\"rgb(17,17,17)\",\"gridcolor\":\"#506784\",\"gridwidth\":2,\"linecolor\":\"#506784\",\"showbackground\":true,\"ticks\":\"\",\"zerolinecolor\":\"#C8D4E3\"}},\"shapedefaults\":{\"line\":{\"color\":\"#f2f5fa\"}},\"sliderdefaults\":{\"bgcolor\":\"#C8D4E3\",\"bordercolor\":\"rgb(17,17,17)\",\"borderwidth\":1,\"tickwidth\":0},\"ternary\":{\"aaxis\":{\"gridcolor\":\"#506784\",\"linecolor\":\"#506784\",\"ticks\":\"\"},\"baxis\":{\"gridcolor\":\"#506784\",\"linecolor\":\"#506784\",\"ticks\":\"\"},\"bgcolor\":\"rgb(17,17,17)\",\"caxis\":{\"gridcolor\":\"#506784\",\"linecolor\":\"#506784\",\"ticks\":\"\"}},\"title\":{\"x\":0.05},\"updatemenudefaults\":{\"bgcolor\":\"#506784\",\"borderwidth\":0},\"xaxis\":{\"automargin\":true,\"gridcolor\":\"#283442\",\"linecolor\":\"#506784\",\"ticks\":\"\",\"title\":{\"standoff\":15},\"zerolinecolor\":\"#283442\",\"zerolinewidth\":2},\"yaxis\":{\"automargin\":true,\"gridcolor\":\"#283442\",\"linecolor\":\"#506784\",\"ticks\":\"\",\"title\":{\"standoff\":15},\"zerolinecolor\":\"#283442\",\"zerolinewidth\":2}}}},                        {\"responsive\": true}                    ).then(function(){\n",
       "                            \n",
       "var gd = document.getElementById('223f7659-271f-4964-a4b8-34cf334f0ff8');\n",
       "var x = new MutationObserver(function (mutations, observer) {{\n",
       "        var display = window.getComputedStyle(gd).display;\n",
       "        if (!display || display === 'none') {{\n",
       "            console.log([gd, 'removed!']);\n",
       "            Plotly.purge(gd);\n",
       "            observer.disconnect();\n",
       "        }}\n",
       "}});\n",
       "\n",
       "// Listen for the removal of the full notebook cells\n",
       "var notebookContainer = gd.closest('#notebook-container');\n",
       "if (notebookContainer) {{\n",
       "    x.observe(notebookContainer, {childList: true});\n",
       "}}\n",
       "\n",
       "// Listen for the clearing of the current output cell\n",
       "var outputEl = gd.closest('.output');\n",
       "if (outputEl) {{\n",
       "    x.observe(outputEl, {childList: true});\n",
       "}}\n",
       "\n",
       "                        })                };                });            </script>        </div>"
      ]
     },
     "metadata": {},
     "output_type": "display_data"
    }
   ],
   "source": [
    "# Plotting auxiliary pulses\n",
    "fig_auxiliary = px.scatter_3d(event_pulses.loc[event_pulses.auxiliary],\n",
    "                              x='x', y='y', z='z', opacity=0.5, color_discrete_sequence=['blue'])\n",
    "# Plotting non-auxiliary pulses\n",
    "fig_non_auxiliary = px.scatter_3d(event_pulses.loc[~event_pulses.auxiliary],\n",
    "                              x='x', y='y', z='z', opacity=0.5, color_discrete_sequence=['aquamarine'])\n",
    "# Plotting the true vector\n",
    "fig_line = px.line_3d(direccion, x=\"x\", y=\"y\", z=\"z\", color_discrete_sequence=['white'])\n",
    "\n",
    "# Plotting the first principal component vector\n",
    "fig_pca_line = px.line_3d(vector_pca_df, x=\"x_pca\", y=\"y_pca\", z=\"z_pca\", color_discrete_sequence=['steelblue'])\n",
    "\n",
    "fig_auxiliary.update_traces(marker_size=event_pulses.charge*10)\n",
    "fig_non_auxiliary.update_traces(marker_size=event_pulses.charge*10)\n",
    "\n",
    "fig = go.Figure(data = fig_auxiliary.data + fig_non_auxiliary.data + fig_line.data + fig_pca_line.data)\n",
    "fig.update_layout(template='plotly_dark')\n",
    "fig.show()"
   ]
  },
  {
   "cell_type": "markdown",
   "id": "da924610",
   "metadata": {
    "papermill": {
     "duration": 0.043349,
     "end_time": "2023-06-04T06:29:32.246598",
     "exception": false,
     "start_time": "2023-06-04T06:29:32.203249",
     "status": "completed"
    },
    "tags": []
   },
   "source": [
    "# <p style=\"font-family:JetBrains Mono; font-weight:bold; letter-spacing: 2px; color:#006600; font-size:140%; text-align:left;padding: 0px; border-bottom: 3px solid #003300\">Ranked Pulses</p>"
   ]
  },
  {
   "cell_type": "code",
   "execution_count": 33,
   "id": "c0f162e5",
   "metadata": {
    "execution": {
     "iopub.execute_input": "2023-06-04T06:29:32.343332Z",
     "iopub.status.busy": "2023-06-04T06:29:32.342489Z",
     "iopub.status.idle": "2023-06-04T06:29:32.384509Z",
     "shell.execute_reply": "2023-06-04T06:29:32.381896Z"
    },
    "papermill": {
     "duration": 0.096711,
     "end_time": "2023-06-04T06:29:32.390795",
     "exception": false,
     "start_time": "2023-06-04T06:29:32.294084",
     "status": "completed"
    },
    "tags": []
   },
   "outputs": [
    {
     "data": {
      "text/html": [
       "<div>\n",
       "<style scoped>\n",
       "    .dataframe tbody tr th:only-of-type {\n",
       "        vertical-align: middle;\n",
       "    }\n",
       "\n",
       "    .dataframe tbody tr th {\n",
       "        vertical-align: top;\n",
       "    }\n",
       "\n",
       "    .dataframe thead th {\n",
       "        text-align: right;\n",
       "    }\n",
       "</style>\n",
       "<table border=\"1\" class=\"dataframe\">\n",
       "  <thead>\n",
       "    <tr style=\"text-align: right;\">\n",
       "      <th></th>\n",
       "      <th>batch_id</th>\n",
       "      <th>event_id</th>\n",
       "      <th>first_pulse_index</th>\n",
       "      <th>last_pulse_index</th>\n",
       "      <th>azimuth</th>\n",
       "      <th>zenith</th>\n",
       "      <th>auxiliary_ratio</th>\n",
       "    </tr>\n",
       "  </thead>\n",
       "  <tbody>\n",
       "    <tr>\n",
       "      <th>0</th>\n",
       "      <td>125</td>\n",
       "      <td>403533054</td>\n",
       "      <td>0</td>\n",
       "      <td>64</td>\n",
       "      <td>5.036863</td>\n",
       "      <td>1.047974</td>\n",
       "      <td>0.692308</td>\n",
       "    </tr>\n",
       "    <tr>\n",
       "      <th>1</th>\n",
       "      <td>125</td>\n",
       "      <td>403533131</td>\n",
       "      <td>65</td>\n",
       "      <td>129</td>\n",
       "      <td>5.888834</td>\n",
       "      <td>0.806877</td>\n",
       "      <td>0.523077</td>\n",
       "    </tr>\n",
       "    <tr>\n",
       "      <th>2</th>\n",
       "      <td>125</td>\n",
       "      <td>403533142</td>\n",
       "      <td>130</td>\n",
       "      <td>236</td>\n",
       "      <td>5.779661</td>\n",
       "      <td>1.615474</td>\n",
       "      <td>0.317757</td>\n",
       "    </tr>\n",
       "    <tr>\n",
       "      <th>3</th>\n",
       "      <td>125</td>\n",
       "      <td>403533173</td>\n",
       "      <td>237</td>\n",
       "      <td>286</td>\n",
       "      <td>0.193563</td>\n",
       "      <td>1.638576</td>\n",
       "      <td>0.740000</td>\n",
       "    </tr>\n",
       "    <tr>\n",
       "      <th>4</th>\n",
       "      <td>125</td>\n",
       "      <td>403533184</td>\n",
       "      <td>287</td>\n",
       "      <td>319</td>\n",
       "      <td>2.306770</td>\n",
       "      <td>2.450495</td>\n",
       "      <td>0.787879</td>\n",
       "    </tr>\n",
       "  </tbody>\n",
       "</table>\n",
       "</div>"
      ],
      "text/plain": [
       "   batch_id   event_id  first_pulse_index  last_pulse_index   azimuth  \\\n",
       "0       125  403533054                  0                64  5.036863   \n",
       "1       125  403533131                 65               129  5.888834   \n",
       "2       125  403533142                130               236  5.779661   \n",
       "3       125  403533173                237               286  0.193563   \n",
       "4       125  403533184                287               319  2.306770   \n",
       "\n",
       "     zenith  auxiliary_ratio  \n",
       "0  1.047974         0.692308  \n",
       "1  0.806877         0.523077  \n",
       "2  1.615474         0.317757  \n",
       "3  1.638576         0.740000  \n",
       "4  2.450495         0.787879  "
      ]
     },
     "execution_count": 33,
     "metadata": {},
     "output_type": "execute_result"
    }
   ],
   "source": [
    "train_meta_sample = train_meta_[:10000].copy()\n",
    "train_meta_sample.head()"
   ]
  },
  {
   "cell_type": "code",
   "execution_count": 34,
   "id": "48377dac",
   "metadata": {
    "execution": {
     "iopub.execute_input": "2023-06-04T06:29:32.483290Z",
     "iopub.status.busy": "2023-06-04T06:29:32.482003Z",
     "iopub.status.idle": "2023-06-04T06:29:32.498980Z",
     "shell.execute_reply": "2023-06-04T06:29:32.496071Z"
    },
    "papermill": {
     "duration": 0.071786,
     "end_time": "2023-06-04T06:29:32.504355",
     "exception": false,
     "start_time": "2023-06-04T06:29:32.432569",
     "status": "completed"
    },
    "tags": []
   },
   "outputs": [],
   "source": [
    "train_sample = train_batch.loc[: train_meta_sample.iloc[-1].last_pulse_index.astype(int)]"
   ]
  },
  {
   "cell_type": "code",
   "execution_count": 35,
   "id": "067c10c3",
   "metadata": {
    "execution": {
     "iopub.execute_input": "2023-06-04T06:29:32.604811Z",
     "iopub.status.busy": "2023-06-04T06:29:32.603748Z",
     "iopub.status.idle": "2023-06-04T06:29:33.746750Z",
     "shell.execute_reply": "2023-06-04T06:29:33.743101Z"
    },
    "papermill": {
     "duration": 1.205696,
     "end_time": "2023-06-04T06:29:33.754434",
     "exception": false,
     "start_time": "2023-06-04T06:29:32.548738",
     "status": "completed"
    },
    "tags": []
   },
   "outputs": [
    {
     "name": "stdout",
     "output_type": "stream",
     "text": [
      "1817022\n"
     ]
    },
    {
     "data": {
      "text/html": [
       "<div>\n",
       "<style scoped>\n",
       "    .dataframe tbody tr th:only-of-type {\n",
       "        vertical-align: middle;\n",
       "    }\n",
       "\n",
       "    .dataframe tbody tr th {\n",
       "        vertical-align: top;\n",
       "    }\n",
       "\n",
       "    .dataframe thead th {\n",
       "        text-align: right;\n",
       "    }\n",
       "</style>\n",
       "<table border=\"1\" class=\"dataframe\">\n",
       "  <thead>\n",
       "    <tr style=\"text-align: right;\">\n",
       "      <th></th>\n",
       "      <th>event_id</th>\n",
       "      <th>sensor_id</th>\n",
       "      <th>time</th>\n",
       "      <th>charge</th>\n",
       "      <th>auxiliary</th>\n",
       "      <th>x</th>\n",
       "      <th>y</th>\n",
       "      <th>z</th>\n",
       "    </tr>\n",
       "  </thead>\n",
       "  <tbody>\n",
       "    <tr>\n",
       "      <th>0</th>\n",
       "      <td>403533054</td>\n",
       "      <td>1166</td>\n",
       "      <td>6055</td>\n",
       "      <td>1.425</td>\n",
       "      <td>True</td>\n",
       "      <td>487.007692</td>\n",
       "      <td>-168.362</td>\n",
       "      <td>187.990462</td>\n",
       "    </tr>\n",
       "    <tr>\n",
       "      <th>1</th>\n",
       "      <td>403533054</td>\n",
       "      <td>2932</td>\n",
       "      <td>6279</td>\n",
       "      <td>2.725</td>\n",
       "      <td>True</td>\n",
       "      <td>632.207692</td>\n",
       "      <td>168.608</td>\n",
       "      <td>-248.699538</td>\n",
       "    </tr>\n",
       "    <tr>\n",
       "      <th>2</th>\n",
       "      <td>403533054</td>\n",
       "      <td>4165</td>\n",
       "      <td>6392</td>\n",
       "      <td>1.975</td>\n",
       "      <td>True</td>\n",
       "      <td>14.707692</td>\n",
       "      <td>414.948</td>\n",
       "      <td>208.670462</td>\n",
       "    </tr>\n",
       "    <tr>\n",
       "      <th>3</th>\n",
       "      <td>403533054</td>\n",
       "      <td>486</td>\n",
       "      <td>6415</td>\n",
       "      <td>0.775</td>\n",
       "      <td>True</td>\n",
       "      <td>72.107692</td>\n",
       "      <td>-343.592</td>\n",
       "      <td>529.990462</td>\n",
       "    </tr>\n",
       "    <tr>\n",
       "      <th>4</th>\n",
       "      <td>403533054</td>\n",
       "      <td>4165</td>\n",
       "      <td>6429</td>\n",
       "      <td>0.725</td>\n",
       "      <td>True</td>\n",
       "      <td>14.707692</td>\n",
       "      <td>414.948</td>\n",
       "      <td>208.670462</td>\n",
       "    </tr>\n",
       "  </tbody>\n",
       "</table>\n",
       "</div>"
      ],
      "text/plain": [
       "    event_id  sensor_id  time  charge  auxiliary           x        y  \\\n",
       "0  403533054       1166  6055   1.425       True  487.007692 -168.362   \n",
       "1  403533054       2932  6279   2.725       True  632.207692  168.608   \n",
       "2  403533054       4165  6392   1.975       True   14.707692  414.948   \n",
       "3  403533054        486  6415   0.775       True   72.107692 -343.592   \n",
       "4  403533054       4165  6429   0.725       True   14.707692  414.948   \n",
       "\n",
       "            z  \n",
       "0  187.990462  \n",
       "1 -248.699538  \n",
       "2  208.670462  \n",
       "3  529.990462  \n",
       "4  208.670462  "
      ]
     },
     "execution_count": 35,
     "metadata": {},
     "output_type": "execute_result"
    }
   ],
   "source": [
    "train_sample = train_sample.merge(sensor_geometry, on = \"sensor_id\", how = \"left\")\n",
    "\n",
    "train_sample['x'] = train_sample['x'] - train_sample.groupby('event_id').x.transform('mean')\n",
    "train_sample['y'] = train_sample['y'] - train_sample.groupby('event_id').y.transform('mean')\n",
    "train_sample['z'] = train_sample['z'] - train_sample.groupby('event_id').z.transform('mean')\n",
    "\n",
    "print(len(train_sample))\n",
    "\n",
    "train_sample.head()"
   ]
  },
  {
   "cell_type": "code",
   "execution_count": 36,
   "id": "24729d7b",
   "metadata": {
    "execution": {
     "iopub.execute_input": "2023-06-04T06:29:33.853199Z",
     "iopub.status.busy": "2023-06-04T06:29:33.851808Z",
     "iopub.status.idle": "2023-06-04T06:29:33.882576Z",
     "shell.execute_reply": "2023-06-04T06:29:33.879416Z"
    },
    "papermill": {
     "duration": 0.087211,
     "end_time": "2023-06-04T06:29:33.892609",
     "exception": false,
     "start_time": "2023-06-04T06:29:33.805398",
     "status": "completed"
    },
    "tags": []
   },
   "outputs": [
    {
     "name": "stdout",
     "output_type": "stream",
     "text": [
      "time_valid_length : 6199.70 m/ns\n"
     ]
    }
   ],
   "source": [
    "#the speed of light\n",
    "c_const = 0.299792458\n",
    "\n",
    "x_min, x_max = sensor_geometry.x.agg([min, max]).values\n",
    "y_min, y_max = sensor_geometry.y.agg([min, max]).values\n",
    "z_min, z_max = sensor_geometry.z.agg([min, max]).values\n",
    "\n",
    "detector_length = np.sqrt((x_max - x_min)**2 + (y_max - y_min)**2 + (z_max - z_min)**2)\n",
    "time_valid_length = detector_length / c_const\n",
    "print(f\"time_valid_length : {time_valid_length:.2f} m/ns\")"
   ]
  },
  {
   "cell_type": "code",
   "execution_count": 37,
   "id": "91e178eb",
   "metadata": {
    "execution": {
     "iopub.execute_input": "2023-06-04T06:29:33.995713Z",
     "iopub.status.busy": "2023-06-04T06:29:33.992509Z",
     "iopub.status.idle": "2023-06-04T06:29:34.013984Z",
     "shell.execute_reply": "2023-06-04T06:29:34.011408Z"
    },
    "papermill": {
     "duration": 0.0786,
     "end_time": "2023-06-04T06:29:34.019350",
     "exception": false,
     "start_time": "2023-06-04T06:29:33.940750",
     "status": "completed"
    },
    "tags": []
   },
   "outputs": [],
   "source": [
    "def get_ranked_pulses(event_pulses):\n",
    "    event_pulses[\"time_from_start\"] = event_pulses.time.values - event_pulses.time.min()\n",
    "    time_peak_charge = event_pulses.loc[event_pulses['charge'].argmax(), 'time_from_start']\n",
    "    time_valid_min = time_peak_charge - time_valid_length\n",
    "    time_valid_max = time_peak_charge + time_valid_length\n",
    "    time_valid_window = ((event_pulses['time_from_start'] > time_valid_min) * \n",
    "                  (event_pulses['time_from_start'] < time_valid_max))\n",
    "    event_pulses['pulse_rank'] = 2 * (1 - event_pulses['auxiliary'].values) + (time_valid_window)\n",
    "    ranked_pulses = event_pulses.drop('time_from_start', axis=1)\n",
    "    return ranked_pulses"
   ]
  },
  {
   "cell_type": "code",
   "execution_count": 38,
   "id": "aec1b23f",
   "metadata": {
    "execution": {
     "iopub.execute_input": "2023-06-04T06:29:34.068800Z",
     "iopub.status.busy": "2023-06-04T06:29:34.068340Z",
     "iopub.status.idle": "2023-06-04T06:29:34.082059Z",
     "shell.execute_reply": "2023-06-04T06:29:34.080819Z"
    },
    "papermill": {
     "duration": 0.038546,
     "end_time": "2023-06-04T06:29:34.085084",
     "exception": false,
     "start_time": "2023-06-04T06:29:34.046538",
     "status": "completed"
    },
    "tags": []
   },
   "outputs": [],
   "source": [
    "def get_angles(event_pulses):\n",
    "    event_pulses = (get_ranked_pulses(event_pulses)).query('pulse_rank == 3')\n",
    "    try:\n",
    "        pca = PCA(n_components=1).fit(event_pulses[['x', 'y', 'z']])\n",
    "        vector = pca.components_[0]\n",
    "\n",
    "        # zero-centering of the coordinates\n",
    "        event_pulses.x = event_pulses.x - event_pulses.x.mean()\n",
    "        event_pulses.y = event_pulses.y - event_pulses.y.mean()\n",
    "        event_pulses.z = event_pulses.z - event_pulses.z.mean()\n",
    "\n",
    "        # calculating a distance of a point from the first principal component, that goes through the origin\n",
    "        event_pulses['distance'] = (event_pulses.x * vector[0] + event_pulses.y * vector[1] +\n",
    "                                              event_pulses.z * vector[2]) / np.linalg.norm(vector)\n",
    "\n",
    "        # Flip the vector direction if it points away from the neutrino origin\n",
    "        if (event_pulses.loc[event_pulses.distance > 0].time.mean() >\n",
    "            event_pulses.loc[event_pulses.distance < 0].time.mean()):\n",
    "            vector = -1 * vector\n",
    "            \n",
    "        vector = np.clip(vector, -1, 1)\n",
    "        \n",
    "        zenith = np.arccos(vector[2])\n",
    "        azimuth = np.arctan2(vector[1], vector[0])\n",
    "        if azimuth < 0:\n",
    "            azimuth = 2 * np.pi + azimuth\n",
    "\n",
    "    except:\n",
    "        zenith, azimuth = 0., 0.\n",
    "        \n",
    "    return zenith, azimuth"
   ]
  },
  {
   "cell_type": "code",
   "execution_count": 39,
   "id": "94fb68f2",
   "metadata": {
    "execution": {
     "iopub.execute_input": "2023-06-04T06:29:34.134481Z",
     "iopub.status.busy": "2023-06-04T06:29:34.133174Z",
     "iopub.status.idle": "2023-06-04T06:32:10.741325Z",
     "shell.execute_reply": "2023-06-04T06:32:10.739787Z"
    },
    "papermill": {
     "duration": 156.656474,
     "end_time": "2023-06-04T06:32:10.764463",
     "exception": false,
     "start_time": "2023-06-04T06:29:34.107989",
     "status": "completed"
    },
    "tags": []
   },
   "outputs": [
    {
     "name": "stdout",
     "output_type": "stream",
     "text": [
      "CPU times: user 3min 2s, sys: 41.6 s, total: 3min 44s\n",
      "Wall time: 2min 36s\n"
     ]
    }
   ],
   "source": [
    "%%time\n",
    "\n",
    "train_meta_sample[['azimuth_pred', 'zenith_pred']] = None\n",
    "for i in range(len(train_meta_sample)):\n",
    "    row = train_meta_sample.iloc[i]\n",
    "    event_pulses = train_sample.iloc[ \\\n",
    "        row.first_pulse_index.astype(int):row.last_pulse_index.astype(int)+1].reset_index().copy()\n",
    "    zenith, azimuth = get_angles(event_pulses)\n",
    "    train_meta_sample.loc[i, 'zenith_pred'] = zenith\n",
    "    train_meta_sample.loc[i, 'azimuth_pred'] = azimuth"
   ]
  },
  {
   "cell_type": "code",
   "execution_count": 40,
   "id": "a5fa19dc",
   "metadata": {
    "execution": {
     "iopub.execute_input": "2023-06-04T06:32:10.807045Z",
     "iopub.status.busy": "2023-06-04T06:32:10.806599Z",
     "iopub.status.idle": "2023-06-04T06:32:10.836381Z",
     "shell.execute_reply": "2023-06-04T06:32:10.834945Z"
    },
    "papermill": {
     "duration": 0.054951,
     "end_time": "2023-06-04T06:32:10.839320",
     "exception": false,
     "start_time": "2023-06-04T06:32:10.784369",
     "status": "completed"
    },
    "tags": []
   },
   "outputs": [
    {
     "name": "stdout",
     "output_type": "stream",
     "text": [
      "The value of error: 1.208\n"
     ]
    }
   ],
   "source": [
    "sample_error = angular_dist_score(train_meta_sample.azimuth.to_list(), train_meta_sample.zenith.to_list(),\n",
    "                   train_meta_sample.azimuth_pred.astype(float).to_list(),\n",
    "                   train_meta_sample.zenith_pred.astype(float).to_list())\n",
    "\n",
    "print(f'The value of error: {sample_error:.3f}')"
   ]
  },
  {
   "cell_type": "markdown",
   "id": "4dfd2988",
   "metadata": {
    "papermill": {
     "duration": 0.019674,
     "end_time": "2023-06-04T06:32:10.879401",
     "exception": false,
     "start_time": "2023-06-04T06:32:10.859727",
     "status": "completed"
    },
    "tags": []
   },
   "source": [
    "# <p style=\"font-family:JetBrains Mono; font-weight:bold; letter-spacing: 2px; color:#006600; font-size:140%; text-align:left;padding: 0px; border-bottom: 3px solid #003300\">Sample Submission</p>"
   ]
  },
  {
   "cell_type": "code",
   "execution_count": 41,
   "id": "5330540c",
   "metadata": {
    "execution": {
     "iopub.execute_input": "2023-06-04T06:32:10.922134Z",
     "iopub.status.busy": "2023-06-04T06:32:10.921648Z",
     "iopub.status.idle": "2023-06-04T06:32:10.953036Z",
     "shell.execute_reply": "2023-06-04T06:32:10.951490Z"
    },
    "papermill": {
     "duration": 0.056576,
     "end_time": "2023-06-04T06:32:10.956065",
     "exception": false,
     "start_time": "2023-06-04T06:32:10.899489",
     "status": "completed"
    },
    "tags": []
   },
   "outputs": [
    {
     "data": {
      "text/html": [
       "<div>\n",
       "<style scoped>\n",
       "    .dataframe tbody tr th:only-of-type {\n",
       "        vertical-align: middle;\n",
       "    }\n",
       "\n",
       "    .dataframe tbody tr th {\n",
       "        vertical-align: top;\n",
       "    }\n",
       "\n",
       "    .dataframe thead th {\n",
       "        text-align: right;\n",
       "    }\n",
       "</style>\n",
       "<table border=\"1\" class=\"dataframe\">\n",
       "  <thead>\n",
       "    <tr style=\"text-align: right;\">\n",
       "      <th></th>\n",
       "      <th>batch_id</th>\n",
       "      <th>event_id</th>\n",
       "      <th>first_pulse_index</th>\n",
       "      <th>last_pulse_index</th>\n",
       "    </tr>\n",
       "  </thead>\n",
       "  <tbody>\n",
       "    <tr>\n",
       "      <th>0</th>\n",
       "      <td>661</td>\n",
       "      <td>2092</td>\n",
       "      <td>0</td>\n",
       "      <td>298</td>\n",
       "    </tr>\n",
       "    <tr>\n",
       "      <th>1</th>\n",
       "      <td>661</td>\n",
       "      <td>7344</td>\n",
       "      <td>299</td>\n",
       "      <td>334</td>\n",
       "    </tr>\n",
       "    <tr>\n",
       "      <th>2</th>\n",
       "      <td>661</td>\n",
       "      <td>9482</td>\n",
       "      <td>335</td>\n",
       "      <td>377</td>\n",
       "    </tr>\n",
       "  </tbody>\n",
       "</table>\n",
       "</div>"
      ],
      "text/plain": [
       "   batch_id  event_id  first_pulse_index  last_pulse_index\n",
       "0       661      2092                  0               298\n",
       "1       661      7344                299               334\n",
       "2       661      9482                335               377"
      ]
     },
     "execution_count": 41,
     "metadata": {},
     "output_type": "execute_result"
    }
   ],
   "source": [
    "test_meta = pd.read_parquet(\"/kaggle/input/icecube-neutrinos-in-deep-ice/test_meta.parquet\")\n",
    "test_meta.head()"
   ]
  },
  {
   "cell_type": "code",
   "execution_count": 42,
   "id": "42a376a3",
   "metadata": {
    "execution": {
     "iopub.execute_input": "2023-06-04T06:32:11.000230Z",
     "iopub.status.busy": "2023-06-04T06:32:10.999763Z",
     "iopub.status.idle": "2023-06-04T06:32:11.010984Z",
     "shell.execute_reply": "2023-06-04T06:32:11.007397Z"
    },
    "papermill": {
     "duration": 0.036413,
     "end_time": "2023-06-04T06:32:11.013696",
     "exception": false,
     "start_time": "2023-06-04T06:32:10.977283",
     "status": "completed"
    },
    "tags": []
   },
   "outputs": [],
   "source": [
    "def load_test_batch(batch_id):\n",
    "    test_batch = pd.read_parquet(\"/kaggle/input/icecube-neutrinos-in-deep-ice/test/batch_661.parquet\") \\\n",
    "                                .reset_index()\n",
    "    test_batch[['x', 'y', 'z']] = sensor_geometry.loc[test_batch.sensor_id].reset_index()[['x', 'y', 'z']]\n",
    "    test_batch.x = test_batch.x - test_batch.groupby('event_id').x.transform('mean')\n",
    "    test_batch.y = test_batch.y - test_batch.groupby('event_id').y.transform('mean')\n",
    "    test_batch.z = test_batch.z - test_batch.groupby('event_id').z.transform('mean')\n",
    "    return test_batch"
   ]
  },
  {
   "cell_type": "code",
   "execution_count": 43,
   "id": "5f04ba07",
   "metadata": {
    "execution": {
     "iopub.execute_input": "2023-06-04T06:32:11.057283Z",
     "iopub.status.busy": "2023-06-04T06:32:11.056833Z",
     "iopub.status.idle": "2023-06-04T06:32:11.154966Z",
     "shell.execute_reply": "2023-06-04T06:32:11.153529Z"
    },
    "papermill": {
     "duration": 0.123164,
     "end_time": "2023-06-04T06:32:11.158046",
     "exception": false,
     "start_time": "2023-06-04T06:32:11.034882",
     "status": "completed"
    },
    "tags": []
   },
   "outputs": [
    {
     "data": {
      "text/html": [
       "<div>\n",
       "<style scoped>\n",
       "    .dataframe tbody tr th:only-of-type {\n",
       "        vertical-align: middle;\n",
       "    }\n",
       "\n",
       "    .dataframe tbody tr th {\n",
       "        vertical-align: top;\n",
       "    }\n",
       "\n",
       "    .dataframe thead th {\n",
       "        text-align: right;\n",
       "    }\n",
       "</style>\n",
       "<table border=\"1\" class=\"dataframe\">\n",
       "  <thead>\n",
       "    <tr style=\"text-align: right;\">\n",
       "      <th></th>\n",
       "      <th>batch_id</th>\n",
       "      <th>event_id</th>\n",
       "      <th>first_pulse_index</th>\n",
       "      <th>last_pulse_index</th>\n",
       "      <th>zenith</th>\n",
       "      <th>azimuth</th>\n",
       "    </tr>\n",
       "  </thead>\n",
       "  <tbody>\n",
       "    <tr>\n",
       "      <th>0</th>\n",
       "      <td>661</td>\n",
       "      <td>2092</td>\n",
       "      <td>0</td>\n",
       "      <td>298</td>\n",
       "      <td>1.588634</td>\n",
       "      <td>5.351306</td>\n",
       "    </tr>\n",
       "    <tr>\n",
       "      <th>1</th>\n",
       "      <td>661</td>\n",
       "      <td>7344</td>\n",
       "      <td>299</td>\n",
       "      <td>334</td>\n",
       "      <td>3.141593</td>\n",
       "      <td>3.141593</td>\n",
       "    </tr>\n",
       "    <tr>\n",
       "      <th>2</th>\n",
       "      <td>661</td>\n",
       "      <td>9482</td>\n",
       "      <td>335</td>\n",
       "      <td>377</td>\n",
       "      <td>1.591759</td>\n",
       "      <td>4.345112</td>\n",
       "    </tr>\n",
       "  </tbody>\n",
       "</table>\n",
       "</div>"
      ],
      "text/plain": [
       "   batch_id  event_id  first_pulse_index  last_pulse_index    zenith   azimuth\n",
       "0       661      2092                  0               298  1.588634  5.351306\n",
       "1       661      7344                299               334  3.141593  3.141593\n",
       "2       661      9482                335               377  1.591759  4.345112"
      ]
     },
     "execution_count": 43,
     "metadata": {},
     "output_type": "execute_result"
    }
   ],
   "source": [
    "for batch in test_meta.batch_id.unique():\n",
    "    test_batch = load_test_batch(batch)\n",
    "    test_meta_batch = test_meta.loc[test_meta.batch_id == batch]\n",
    "\n",
    "    pulses_info = []\n",
    "    for i in range(len(test_meta_batch)):\n",
    "        row = test_meta_batch.iloc[i]\n",
    "        pulses_info.append(test_batch.iloc[ \\\n",
    "            row.first_pulse_index.astype(int):row.last_pulse_index.astype(int)+1].reset_index().copy())\n",
    "        \n",
    "    results = []\n",
    "    for result in map(get_angles, pulses_info):\n",
    "        results.append(result)\n",
    "            \n",
    "    test_meta.loc[test_meta_batch.index, 'zenith'] = [results[i][0] for i in range(len(results))]\n",
    "    test_meta.loc[test_meta_batch.index, 'azimuth'] = [results[i][1] for i in range(len(results))]\n",
    "    \n",
    "test_meta.head()"
   ]
  },
  {
   "cell_type": "code",
   "execution_count": 44,
   "id": "912ddf81",
   "metadata": {
    "execution": {
     "iopub.execute_input": "2023-06-04T06:32:11.201938Z",
     "iopub.status.busy": "2023-06-04T06:32:11.200506Z",
     "iopub.status.idle": "2023-06-04T06:32:11.224625Z",
     "shell.execute_reply": "2023-06-04T06:32:11.223328Z"
    },
    "papermill": {
     "duration": 0.04923,
     "end_time": "2023-06-04T06:32:11.227829",
     "exception": false,
     "start_time": "2023-06-04T06:32:11.178599",
     "status": "completed"
    },
    "tags": []
   },
   "outputs": [
    {
     "data": {
      "text/html": [
       "<div>\n",
       "<style scoped>\n",
       "    .dataframe tbody tr th:only-of-type {\n",
       "        vertical-align: middle;\n",
       "    }\n",
       "\n",
       "    .dataframe tbody tr th {\n",
       "        vertical-align: top;\n",
       "    }\n",
       "\n",
       "    .dataframe thead th {\n",
       "        text-align: right;\n",
       "    }\n",
       "</style>\n",
       "<table border=\"1\" class=\"dataframe\">\n",
       "  <thead>\n",
       "    <tr style=\"text-align: right;\">\n",
       "      <th></th>\n",
       "      <th>event_id</th>\n",
       "      <th>azimuth</th>\n",
       "      <th>zenith</th>\n",
       "    </tr>\n",
       "  </thead>\n",
       "  <tbody>\n",
       "    <tr>\n",
       "      <th>0</th>\n",
       "      <td>2092</td>\n",
       "      <td>5.351306</td>\n",
       "      <td>1.588634</td>\n",
       "    </tr>\n",
       "    <tr>\n",
       "      <th>1</th>\n",
       "      <td>7344</td>\n",
       "      <td>3.141593</td>\n",
       "      <td>3.141593</td>\n",
       "    </tr>\n",
       "    <tr>\n",
       "      <th>2</th>\n",
       "      <td>9482</td>\n",
       "      <td>4.345112</td>\n",
       "      <td>1.591759</td>\n",
       "    </tr>\n",
       "  </tbody>\n",
       "</table>\n",
       "</div>"
      ],
      "text/plain": [
       "   event_id   azimuth    zenith\n",
       "0      2092  5.351306  1.588634\n",
       "1      7344  3.141593  3.141593\n",
       "2      9482  4.345112  1.591759"
      ]
     },
     "execution_count": 44,
     "metadata": {},
     "output_type": "execute_result"
    }
   ],
   "source": [
    "submission = test_meta[['event_id', 'azimuth', 'zenith']]\n",
    "submission.to_csv('submission.csv', index=False)\n",
    "submission.head()"
   ]
  }
 ],
 "metadata": {
  "kernelspec": {
   "display_name": "Python 3",
   "language": "python",
   "name": "python3"
  },
  "language_info": {
   "codemirror_mode": {
    "name": "ipython",
    "version": 3
   },
   "file_extension": ".py",
   "mimetype": "text/x-python",
   "name": "python",
   "nbconvert_exporter": "python",
   "pygments_lexer": "ipython3",
   "version": "3.10.10"
  },
  "papermill": {
   "default_parameters": {},
   "duration": 218.032827,
   "end_time": "2023-06-04T06:32:12.978988",
   "environment_variables": {},
   "exception": null,
   "input_path": "__notebook__.ipynb",
   "output_path": "__notebook__.ipynb",
   "parameters": {},
   "start_time": "2023-06-04T06:28:34.946161",
   "version": "2.4.0"
  }
 },
 "nbformat": 4,
 "nbformat_minor": 5
}
